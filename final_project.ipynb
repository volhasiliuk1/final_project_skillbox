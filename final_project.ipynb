{
 "cells": [
  {
   "cell_type": "code",
   "execution_count": 3,
   "id": "fad924ef",
   "metadata": {},
   "outputs": [],
   "source": [
    "import pandas as pd\n",
    "import numpy as np\n",
    "from tqdm import tqdm\n",
    "import matplotlib.pyplot as plt\n",
    "\n",
    "from sklearn.preprocessing import StandardScaler\n",
    "from sklearn.preprocessing import OneHotEncoder"
   ]
  },
  {
   "cell_type": "markdown",
   "id": "c369040a",
   "metadata": {},
   "source": [
    "## Data Cleaning"
   ]
  },
  {
   "cell_type": "code",
   "execution_count": 33,
   "id": "157b89c1",
   "metadata": {},
   "outputs": [
    {
     "name": "stderr",
     "output_type": "stream",
     "text": [
      "C:\\Program Files\\ArcGIS\\Pro\\bin\\Python\\envs\\arcgispro-py3\\lib\\site-packages\\IPython\\core\\interactiveshell.py:3437: DtypeWarning: Columns (1) have mixed types.Specify dtype option on import or set low_memory=False.\n",
      "  exec(code_obj, self.user_global_ns, self.user_ns)\n"
     ]
    }
   ],
   "source": [
    "path = r'data\\ga_sessions.csv'\n",
    "file = pd.read_csv(path)"
   ]
  },
  {
   "cell_type": "code",
   "execution_count": 34,
   "id": "e2107615",
   "metadata": {},
   "outputs": [
    {
     "data": {
      "text/html": [
       "<div>\n",
       "<style scoped>\n",
       "    .dataframe tbody tr th:only-of-type {\n",
       "        vertical-align: middle;\n",
       "    }\n",
       "\n",
       "    .dataframe tbody tr th {\n",
       "        vertical-align: top;\n",
       "    }\n",
       "\n",
       "    .dataframe thead th {\n",
       "        text-align: right;\n",
       "    }\n",
       "</style>\n",
       "<table border=\"1\" class=\"dataframe\">\n",
       "  <thead>\n",
       "    <tr style=\"text-align: right;\">\n",
       "      <th></th>\n",
       "      <th>session_id</th>\n",
       "      <th>client_id</th>\n",
       "      <th>visit_date</th>\n",
       "      <th>visit_time</th>\n",
       "      <th>visit_number</th>\n",
       "      <th>utm_source</th>\n",
       "      <th>utm_medium</th>\n",
       "      <th>utm_campaign</th>\n",
       "      <th>utm_adcontent</th>\n",
       "      <th>utm_keyword</th>\n",
       "      <th>device_category</th>\n",
       "      <th>device_os</th>\n",
       "      <th>device_brand</th>\n",
       "      <th>device_model</th>\n",
       "      <th>device_screen_resolution</th>\n",
       "      <th>device_browser</th>\n",
       "      <th>geo_country</th>\n",
       "      <th>geo_city</th>\n",
       "    </tr>\n",
       "  </thead>\n",
       "  <tbody>\n",
       "    <tr>\n",
       "      <th>0</th>\n",
       "      <td>9055434745589932991.1637753792.1637753792</td>\n",
       "      <td>2108382700.163776</td>\n",
       "      <td>2021-11-24</td>\n",
       "      <td>14:36:32</td>\n",
       "      <td>1</td>\n",
       "      <td>ZpYIoDJMcFzVoPFsHGJL</td>\n",
       "      <td>banner</td>\n",
       "      <td>LEoPHuyFvzoNfnzGgfcd</td>\n",
       "      <td>vCIpmpaGBnIQhyYNkXqp</td>\n",
       "      <td>puhZPIYqKXeFPaUviSjo</td>\n",
       "      <td>mobile</td>\n",
       "      <td>Android</td>\n",
       "      <td>Huawei</td>\n",
       "      <td>NaN</td>\n",
       "      <td>360x720</td>\n",
       "      <td>Chrome</td>\n",
       "      <td>Russia</td>\n",
       "      <td>Zlatoust</td>\n",
       "    </tr>\n",
       "    <tr>\n",
       "      <th>1</th>\n",
       "      <td>905544597018549464.1636867290.1636867290</td>\n",
       "      <td>210838531.163687</td>\n",
       "      <td>2021-11-14</td>\n",
       "      <td>08:21:30</td>\n",
       "      <td>1</td>\n",
       "      <td>MvfHsxITijuriZxsqZqt</td>\n",
       "      <td>cpm</td>\n",
       "      <td>FTjNLDyTrXaWYgZymFkV</td>\n",
       "      <td>xhoenQgDQsgfEPYNPwKO</td>\n",
       "      <td>IGUCNvHlhfHpROGclCit</td>\n",
       "      <td>mobile</td>\n",
       "      <td>Android</td>\n",
       "      <td>Samsung</td>\n",
       "      <td>NaN</td>\n",
       "      <td>385x854</td>\n",
       "      <td>Samsung Internet</td>\n",
       "      <td>Russia</td>\n",
       "      <td>Moscow</td>\n",
       "    </tr>\n",
       "    <tr>\n",
       "      <th>2</th>\n",
       "      <td>9055446045651783499.1640648526.1640648526</td>\n",
       "      <td>2108385331.164065</td>\n",
       "      <td>2021-12-28</td>\n",
       "      <td>02:42:06</td>\n",
       "      <td>1</td>\n",
       "      <td>ZpYIoDJMcFzVoPFsHGJL</td>\n",
       "      <td>banner</td>\n",
       "      <td>LEoPHuyFvzoNfnzGgfcd</td>\n",
       "      <td>vCIpmpaGBnIQhyYNkXqp</td>\n",
       "      <td>puhZPIYqKXeFPaUviSjo</td>\n",
       "      <td>mobile</td>\n",
       "      <td>Android</td>\n",
       "      <td>Huawei</td>\n",
       "      <td>NaN</td>\n",
       "      <td>360x720</td>\n",
       "      <td>Chrome</td>\n",
       "      <td>Russia</td>\n",
       "      <td>Krasnoyarsk</td>\n",
       "    </tr>\n",
       "    <tr>\n",
       "      <th>3</th>\n",
       "      <td>9055447046360770272.1622255328.1622255328</td>\n",
       "      <td>2108385564.162225</td>\n",
       "      <td>2021-05-29</td>\n",
       "      <td>05:00:00</td>\n",
       "      <td>1</td>\n",
       "      <td>kjsLglQLzykiRbcDiGcD</td>\n",
       "      <td>cpc</td>\n",
       "      <td>NaN</td>\n",
       "      <td>NOBKLgtuvqYWkXQHeYWM</td>\n",
       "      <td>NaN</td>\n",
       "      <td>mobile</td>\n",
       "      <td>NaN</td>\n",
       "      <td>Xiaomi</td>\n",
       "      <td>NaN</td>\n",
       "      <td>393x786</td>\n",
       "      <td>Chrome</td>\n",
       "      <td>Russia</td>\n",
       "      <td>Moscow</td>\n",
       "    </tr>\n",
       "    <tr>\n",
       "      <th>4</th>\n",
       "      <td>9055447046360770272.1622255345.1622255345</td>\n",
       "      <td>2108385564.162225</td>\n",
       "      <td>2021-05-29</td>\n",
       "      <td>05:00:00</td>\n",
       "      <td>2</td>\n",
       "      <td>kjsLglQLzykiRbcDiGcD</td>\n",
       "      <td>cpc</td>\n",
       "      <td>NaN</td>\n",
       "      <td>NaN</td>\n",
       "      <td>NaN</td>\n",
       "      <td>mobile</td>\n",
       "      <td>NaN</td>\n",
       "      <td>Xiaomi</td>\n",
       "      <td>NaN</td>\n",
       "      <td>393x786</td>\n",
       "      <td>Chrome</td>\n",
       "      <td>Russia</td>\n",
       "      <td>Moscow</td>\n",
       "    </tr>\n",
       "  </tbody>\n",
       "</table>\n",
       "</div>"
      ],
      "text/plain": [
       "                                  session_id          client_id  visit_date  \\\n",
       "0  9055434745589932991.1637753792.1637753792  2108382700.163776  2021-11-24   \n",
       "1   905544597018549464.1636867290.1636867290   210838531.163687  2021-11-14   \n",
       "2  9055446045651783499.1640648526.1640648526  2108385331.164065  2021-12-28   \n",
       "3  9055447046360770272.1622255328.1622255328  2108385564.162225  2021-05-29   \n",
       "4  9055447046360770272.1622255345.1622255345  2108385564.162225  2021-05-29   \n",
       "\n",
       "  visit_time  visit_number            utm_source utm_medium  \\\n",
       "0   14:36:32             1  ZpYIoDJMcFzVoPFsHGJL     banner   \n",
       "1   08:21:30             1  MvfHsxITijuriZxsqZqt        cpm   \n",
       "2   02:42:06             1  ZpYIoDJMcFzVoPFsHGJL     banner   \n",
       "3   05:00:00             1  kjsLglQLzykiRbcDiGcD        cpc   \n",
       "4   05:00:00             2  kjsLglQLzykiRbcDiGcD        cpc   \n",
       "\n",
       "           utm_campaign         utm_adcontent           utm_keyword  \\\n",
       "0  LEoPHuyFvzoNfnzGgfcd  vCIpmpaGBnIQhyYNkXqp  puhZPIYqKXeFPaUviSjo   \n",
       "1  FTjNLDyTrXaWYgZymFkV  xhoenQgDQsgfEPYNPwKO  IGUCNvHlhfHpROGclCit   \n",
       "2  LEoPHuyFvzoNfnzGgfcd  vCIpmpaGBnIQhyYNkXqp  puhZPIYqKXeFPaUviSjo   \n",
       "3                   NaN  NOBKLgtuvqYWkXQHeYWM                   NaN   \n",
       "4                   NaN                   NaN                   NaN   \n",
       "\n",
       "  device_category device_os device_brand device_model  \\\n",
       "0          mobile   Android       Huawei          NaN   \n",
       "1          mobile   Android      Samsung          NaN   \n",
       "2          mobile   Android       Huawei          NaN   \n",
       "3          mobile       NaN       Xiaomi          NaN   \n",
       "4          mobile       NaN       Xiaomi          NaN   \n",
       "\n",
       "  device_screen_resolution    device_browser geo_country     geo_city  \n",
       "0                  360x720            Chrome      Russia     Zlatoust  \n",
       "1                  385x854  Samsung Internet      Russia       Moscow  \n",
       "2                  360x720            Chrome      Russia  Krasnoyarsk  \n",
       "3                  393x786            Chrome      Russia       Moscow  \n",
       "4                  393x786            Chrome      Russia       Moscow  "
      ]
     },
     "execution_count": 34,
     "metadata": {},
     "output_type": "execute_result"
    }
   ],
   "source": [
    "file.head()"
   ]
  },
  {
   "cell_type": "code",
   "execution_count": 35,
   "id": "3c2ba701",
   "metadata": {},
   "outputs": [
    {
     "data": {
      "text/plain": [
       "0"
      ]
     },
     "execution_count": 35,
     "metadata": {},
     "output_type": "execute_result"
    }
   ],
   "source": [
    "# посчитаем дубликаты в датасете\n",
    "file.duplicated().sum()"
   ]
  },
  {
   "cell_type": "code",
   "execution_count": 36,
   "id": "2691648d",
   "metadata": {},
   "outputs": [
    {
     "data": {
      "text/plain": [
       "session_id                   0.000000\n",
       "device_browser               0.000000\n",
       "device_screen_resolution     0.000000\n",
       "device_category              0.000000\n",
       "geo_country                  0.000000\n",
       "utm_medium                   0.000000\n",
       "geo_city                     0.000000\n",
       "visit_number                 0.000000\n",
       "visit_time                   0.000000\n",
       "visit_date                   0.000000\n",
       "client_id                    0.000000\n",
       "utm_source                   0.005215\n",
       "utm_campaign                11.806346\n",
       "utm_adcontent               18.043410\n",
       "device_brand                19.740307\n",
       "device_os                   57.533002\n",
       "utm_keyword                 58.174009\n",
       "device_model                99.121633\n",
       "dtype: float64"
      ]
     },
     "execution_count": 36,
     "metadata": {},
     "output_type": "execute_result"
    }
   ],
   "source": [
    "# посмотрим, сколько процентов пропущенных значений в столбцах\n",
    "missing_values = ((file.isna().sum() / len(file)) * 100).sort_values()\n",
    "missing_values"
   ]
  },
  {
   "cell_type": "code",
   "execution_count": 37,
   "id": "716a7c79",
   "metadata": {},
   "outputs": [],
   "source": [
    "# перед очисткой датасета создадим его копию\n",
    "file_clean = file.copy()"
   ]
  },
  {
   "cell_type": "code",
   "execution_count": 38,
   "id": "90f26294",
   "metadata": {},
   "outputs": [],
   "source": [
    "# удалим столбцы с процентом пропущенных значений больше 50\n",
    "file_clean.drop(columns=['device_model','utm_keyword','device_os'], inplace = True)"
   ]
  },
  {
   "cell_type": "code",
   "execution_count": 39,
   "id": "332d6583",
   "metadata": {},
   "outputs": [
    {
     "data": {
      "text/plain": [
       "device_browser                  \n",
       "Chrome                              215719\n",
       "YaBrowser                            60374\n",
       "Safari                               40955\n",
       "Opera                                18024\n",
       "Edge                                 16063\n",
       "Firefox                              14582\n",
       "Mozilla Compatible Agent               362\n",
       "Samsung Internet                       323\n",
       "[FBAN                                  268\n",
       "Instagram 208.0.0.32.135 Android       140\n",
       "Instagram 209.0.0.21.119 Android       111\n",
       "MRCHROME                                77\n",
       "Internet Explorer                       26\n",
       "Android                                 22\n",
       "Instagram 216.1.0.21.137 Android        19\n",
       "Maxthon                                 18\n",
       "(not set)                               17\n",
       "Instagram 194.0.0.36.172 Android        15\n",
       "Instagram 202.0.0.37.123 Android        12\n",
       "Puffin                                   8\n",
       "Instagram 212.0.0.38.119 Android         6\n",
       "Mozilla                                  6\n",
       "helloworld                               6\n",
       "Instagram 213.0.0.29.120 Android         5\n",
       "SeaMonkey                                4\n",
       "Instagram 192.0.0.35.123 Android         3\n",
       "UC Browser                               3\n",
       "Instagram 158.0.0.30.123 Android         3\n",
       "Coc Coc                                  3\n",
       "Instagram 199.1.0.34.119 Android         2\n",
       "Konqueror                                1\n",
       "Instagram 206.1.0.34.121 Android         1\n",
       "dtype: int64"
      ]
     },
     "execution_count": 39,
     "metadata": {},
     "output_type": "execute_result"
    }
   ],
   "source": [
    "# проанализируем пропуски в столбце device_brand\n",
    "# посмотрим, какой браузер для пустых значений\n",
    "file_clean[file_clean.device_brand.isna()][['device_browser']].value_counts()"
   ]
  },
  {
   "cell_type": "code",
   "execution_count": 40,
   "id": "906ef279",
   "metadata": {},
   "outputs": [
    {
     "data": {
      "text/plain": [
       "Apple        437591\n",
       "(not set)        10\n",
       "Nokia             5\n",
       "Microsoft         1\n",
       "Name: device_brand, dtype: int64"
      ]
     },
     "execution_count": 40,
     "metadata": {},
     "output_type": "execute_result"
    }
   ],
   "source": [
    "# посмотрим, с каких девайсов в основном пользуются браузером Safari\n",
    "file_clean.loc[file_clean['device_browser'] == 'Safari']['device_brand'].value_counts()"
   ]
  },
  {
   "cell_type": "code",
   "execution_count": 41,
   "id": "ea8a4821",
   "metadata": {},
   "outputs": [],
   "source": [
    "# т.к. Safari в основном используется на девайсах Apple, заменим пропуски в device_brand на Apple в тех строках, где file_clean['device_browser'] == 'Safari'\n",
    "m = file_clean['device_browser'] == 'Safari'\n",
    "file_clean.loc[m, 'device_brand'] = file_clean.loc[m, 'device_brand'].replace(np.nan, 'Apple')"
   ]
  },
  {
   "cell_type": "code",
   "execution_count": 42,
   "id": "7d1a49e0",
   "metadata": {},
   "outputs": [
    {
     "data": {
      "text/plain": [
       "Samsung      46324\n",
       "(not set)      332\n",
       "Xiaomi         149\n",
       "Huawei          91\n",
       "Realme          27\n",
       "OnePlus         18\n",
       "Asus             6\n",
       "Nokia            6\n",
       "OPPO             5\n",
       "Google           5\n",
       "Meizu            4\n",
       "ZTE              3\n",
       "Motorola         2\n",
       "Ulefone          2\n",
       "Vivo             2\n",
       "Lenovo           2\n",
       "Infinix          2\n",
       "LeEco            2\n",
       "Philips          1\n",
       "DOOGEE           1\n",
       "Tecno            1\n",
       "Blackview        1\n",
       "Name: device_brand, dtype: int64"
      ]
     },
     "execution_count": 42,
     "metadata": {},
     "output_type": "execute_result"
    }
   ],
   "source": [
    "# посмотрим, с каких девайсов в основном пользуются браузером Samsung Internet\n",
    "file_clean.loc[file_clean['device_browser'] == 'Samsung Internet']['device_brand'].value_counts()"
   ]
  },
  {
   "cell_type": "code",
   "execution_count": 43,
   "id": "fcf60f13",
   "metadata": {},
   "outputs": [],
   "source": [
    "# т.к. Samsung Internet в основном используется на девайсах Samsung, заменим пропуски в device_brand на Samsung в тех строках, где file_clean['device_browser'] == 'Samsung Internet'\n",
    "n = file_clean['device_browser'] == 'Samsung Internet'\n",
    "file_clean.loc[n, 'device_brand'] = file_clean.loc[n, 'device_brand'].replace(np.nan, 'Samsung')"
   ]
  },
  {
   "cell_type": "code",
   "execution_count": 44,
   "id": "33ef6e0f",
   "metadata": {},
   "outputs": [],
   "source": [
    "# заменим остальные пропуски в device_brand на 'other'\n",
    "file_clean.device_brand = file_clean.device_brand.fillna('other') "
   ]
  },
  {
   "cell_type": "code",
   "execution_count": 45,
   "id": "e0ca2e59",
   "metadata": {},
   "outputs": [
    {
     "data": {
      "text/plain": [
       "session_id                   0.000000\n",
       "client_id                    0.000000\n",
       "visit_date                   0.000000\n",
       "visit_time                   0.000000\n",
       "visit_number                 0.000000\n",
       "utm_medium                   0.000000\n",
       "device_category              0.000000\n",
       "device_brand                 0.000000\n",
       "device_screen_resolution     0.000000\n",
       "device_browser               0.000000\n",
       "geo_country                  0.000000\n",
       "geo_city                     0.000000\n",
       "utm_source                   0.005215\n",
       "utm_campaign                11.806346\n",
       "utm_adcontent               18.043410\n",
       "dtype: float64"
      ]
     },
     "execution_count": 45,
     "metadata": {},
     "output_type": "execute_result"
    }
   ],
   "source": [
    "missing_values = ((file_clean.isna().sum() / len(file_clean)) * 100).sort_values()\n",
    "missing_values"
   ]
  },
  {
   "cell_type": "code",
   "execution_count": 46,
   "id": "1038b2e6",
   "metadata": {},
   "outputs": [],
   "source": [
    "# т.к. столбаца utm_adcontent нет в описании данных, удалим этот столбец\n",
    "file_clean.drop(columns=['utm_adcontent'], inplace = True)"
   ]
  },
  {
   "cell_type": "code",
   "execution_count": 47,
   "id": "b12d4122",
   "metadata": {},
   "outputs": [],
   "source": [
    "# удалим оставшийся строки с незаполненными значениями\n",
    "file_clean = file_clean.dropna()"
   ]
  },
  {
   "cell_type": "code",
   "execution_count": 48,
   "id": "82f0ee88",
   "metadata": {},
   "outputs": [
    {
     "data": {
      "text/plain": [
       "session_id                  0.0\n",
       "client_id                   0.0\n",
       "visit_date                  0.0\n",
       "visit_time                  0.0\n",
       "visit_number                0.0\n",
       "utm_source                  0.0\n",
       "utm_medium                  0.0\n",
       "utm_campaign                0.0\n",
       "device_category             0.0\n",
       "device_brand                0.0\n",
       "device_screen_resolution    0.0\n",
       "device_browser              0.0\n",
       "geo_country                 0.0\n",
       "geo_city                    0.0\n",
       "dtype: float64"
      ]
     },
     "execution_count": 48,
     "metadata": {},
     "output_type": "execute_result"
    }
   ],
   "source": [
    "missing_values = ((file_clean.isna().sum() / len(file_clean)) * 100).sort_values()\n",
    "missing_values"
   ]
  },
  {
   "cell_type": "code",
   "execution_count": 49,
   "id": "430957c7",
   "metadata": {},
   "outputs": [
    {
     "data": {
      "text/html": [
       "<div>\n",
       "<style scoped>\n",
       "    .dataframe tbody tr th:only-of-type {\n",
       "        vertical-align: middle;\n",
       "    }\n",
       "\n",
       "    .dataframe tbody tr th {\n",
       "        vertical-align: top;\n",
       "    }\n",
       "\n",
       "    .dataframe thead th {\n",
       "        text-align: right;\n",
       "    }\n",
       "</style>\n",
       "<table border=\"1\" class=\"dataframe\">\n",
       "  <thead>\n",
       "    <tr style=\"text-align: right;\">\n",
       "      <th></th>\n",
       "      <th>session_id</th>\n",
       "      <th>hit_date</th>\n",
       "      <th>hit_time</th>\n",
       "      <th>hit_number</th>\n",
       "      <th>hit_type</th>\n",
       "      <th>hit_referer</th>\n",
       "      <th>hit_page_path</th>\n",
       "      <th>event_category</th>\n",
       "      <th>event_action</th>\n",
       "      <th>event_label</th>\n",
       "      <th>event_value</th>\n",
       "    </tr>\n",
       "  </thead>\n",
       "  <tbody>\n",
       "    <tr>\n",
       "      <th>0</th>\n",
       "      <td>5639623078712724064.1640254056.1640254056</td>\n",
       "      <td>2021-12-23</td>\n",
       "      <td>597864.0</td>\n",
       "      <td>30</td>\n",
       "      <td>event</td>\n",
       "      <td>NaN</td>\n",
       "      <td>sberauto.com/cars?utm_source_initial=google&amp;ut...</td>\n",
       "      <td>quiz</td>\n",
       "      <td>quiz_show</td>\n",
       "      <td>NaN</td>\n",
       "      <td>NaN</td>\n",
       "    </tr>\n",
       "    <tr>\n",
       "      <th>1</th>\n",
       "      <td>7750352294969115059.1640271109.1640271109</td>\n",
       "      <td>2021-12-23</td>\n",
       "      <td>597331.0</td>\n",
       "      <td>41</td>\n",
       "      <td>event</td>\n",
       "      <td>NaN</td>\n",
       "      <td>sberauto.com/cars/fiat?city=1&amp;city=18&amp;rental_c...</td>\n",
       "      <td>quiz</td>\n",
       "      <td>quiz_show</td>\n",
       "      <td>NaN</td>\n",
       "      <td>NaN</td>\n",
       "    </tr>\n",
       "    <tr>\n",
       "      <th>2</th>\n",
       "      <td>885342191847998240.1640235807.1640235807</td>\n",
       "      <td>2021-12-23</td>\n",
       "      <td>796252.0</td>\n",
       "      <td>49</td>\n",
       "      <td>event</td>\n",
       "      <td>NaN</td>\n",
       "      <td>sberauto.com/cars/all/volkswagen/polo/e994838f...</td>\n",
       "      <td>quiz</td>\n",
       "      <td>quiz_show</td>\n",
       "      <td>NaN</td>\n",
       "      <td>NaN</td>\n",
       "    </tr>\n",
       "    <tr>\n",
       "      <th>3</th>\n",
       "      <td>142526202120934167.1640211014.1640211014</td>\n",
       "      <td>2021-12-23</td>\n",
       "      <td>934292.0</td>\n",
       "      <td>46</td>\n",
       "      <td>event</td>\n",
       "      <td>NaN</td>\n",
       "      <td>sberauto.com/cars?utm_source_initial=yandex&amp;ut...</td>\n",
       "      <td>quiz</td>\n",
       "      <td>quiz_show</td>\n",
       "      <td>NaN</td>\n",
       "      <td>NaN</td>\n",
       "    </tr>\n",
       "    <tr>\n",
       "      <th>4</th>\n",
       "      <td>3450086108837475701.1640265078.1640265078</td>\n",
       "      <td>2021-12-23</td>\n",
       "      <td>768741.0</td>\n",
       "      <td>79</td>\n",
       "      <td>event</td>\n",
       "      <td>NaN</td>\n",
       "      <td>sberauto.com/cars/all/mercedes-benz/cla-klasse...</td>\n",
       "      <td>quiz</td>\n",
       "      <td>quiz_show</td>\n",
       "      <td>NaN</td>\n",
       "      <td>NaN</td>\n",
       "    </tr>\n",
       "  </tbody>\n",
       "</table>\n",
       "</div>"
      ],
      "text/plain": [
       "                                  session_id    hit_date  hit_time  \\\n",
       "0  5639623078712724064.1640254056.1640254056  2021-12-23  597864.0   \n",
       "1  7750352294969115059.1640271109.1640271109  2021-12-23  597331.0   \n",
       "2   885342191847998240.1640235807.1640235807  2021-12-23  796252.0   \n",
       "3   142526202120934167.1640211014.1640211014  2021-12-23  934292.0   \n",
       "4  3450086108837475701.1640265078.1640265078  2021-12-23  768741.0   \n",
       "\n",
       "   hit_number hit_type hit_referer  \\\n",
       "0          30    event         NaN   \n",
       "1          41    event         NaN   \n",
       "2          49    event         NaN   \n",
       "3          46    event         NaN   \n",
       "4          79    event         NaN   \n",
       "\n",
       "                                       hit_page_path event_category  \\\n",
       "0  sberauto.com/cars?utm_source_initial=google&ut...           quiz   \n",
       "1  sberauto.com/cars/fiat?city=1&city=18&rental_c...           quiz   \n",
       "2  sberauto.com/cars/all/volkswagen/polo/e994838f...           quiz   \n",
       "3  sberauto.com/cars?utm_source_initial=yandex&ut...           quiz   \n",
       "4  sberauto.com/cars/all/mercedes-benz/cla-klasse...           quiz   \n",
       "\n",
       "  event_action event_label  event_value  \n",
       "0    quiz_show         NaN          NaN  \n",
       "1    quiz_show         NaN          NaN  \n",
       "2    quiz_show         NaN          NaN  \n",
       "3    quiz_show         NaN          NaN  \n",
       "4    quiz_show         NaN          NaN  "
      ]
     },
     "execution_count": 49,
     "metadata": {},
     "output_type": "execute_result"
    }
   ],
   "source": [
    "# далее необходимо в наш датасет добавить столбец с целевой переменной\n",
    "# целевую переменную сформулируем из датасета ga_hits.csv\n",
    "path_hits = r'data\\ga_hits.csv'\n",
    "hits = pd.read_csv(path_hits)\n",
    "hits.head()"
   ]
  },
  {
   "cell_type": "code",
   "execution_count": 50,
   "id": "f6bcdb4e",
   "metadata": {},
   "outputs": [],
   "source": [
    "# создадим датасет с колонкой session_id из ga_hits, т.к. по этому признаку далее мы будем объединять 2 датасета\n",
    "hits_target = hits[['session_id']]"
   ]
  },
  {
   "cell_type": "code",
   "execution_count": 51,
   "id": "35f2dc0a",
   "metadata": {},
   "outputs": [
    {
     "data": {
      "text/html": [
       "<div>\n",
       "<style scoped>\n",
       "    .dataframe tbody tr th:only-of-type {\n",
       "        vertical-align: middle;\n",
       "    }\n",
       "\n",
       "    .dataframe tbody tr th {\n",
       "        vertical-align: top;\n",
       "    }\n",
       "\n",
       "    .dataframe thead th {\n",
       "        text-align: right;\n",
       "    }\n",
       "</style>\n",
       "<table border=\"1\" class=\"dataframe\">\n",
       "  <thead>\n",
       "    <tr style=\"text-align: right;\">\n",
       "      <th></th>\n",
       "      <th>session_id</th>\n",
       "    </tr>\n",
       "  </thead>\n",
       "  <tbody>\n",
       "    <tr>\n",
       "      <th>0</th>\n",
       "      <td>5639623078712724064.1640254056.1640254056</td>\n",
       "    </tr>\n",
       "    <tr>\n",
       "      <th>1</th>\n",
       "      <td>7750352294969115059.1640271109.1640271109</td>\n",
       "    </tr>\n",
       "    <tr>\n",
       "      <th>2</th>\n",
       "      <td>885342191847998240.1640235807.1640235807</td>\n",
       "    </tr>\n",
       "    <tr>\n",
       "      <th>3</th>\n",
       "      <td>142526202120934167.1640211014.1640211014</td>\n",
       "    </tr>\n",
       "    <tr>\n",
       "      <th>4</th>\n",
       "      <td>3450086108837475701.1640265078.1640265078</td>\n",
       "    </tr>\n",
       "  </tbody>\n",
       "</table>\n",
       "</div>"
      ],
      "text/plain": [
       "                                  session_id\n",
       "0  5639623078712724064.1640254056.1640254056\n",
       "1  7750352294969115059.1640271109.1640271109\n",
       "2   885342191847998240.1640235807.1640235807\n",
       "3   142526202120934167.1640211014.1640211014\n",
       "4  3450086108837475701.1640265078.1640265078"
      ]
     },
     "execution_count": 51,
     "metadata": {},
     "output_type": "execute_result"
    }
   ],
   "source": [
    "hits_target.head()"
   ]
  },
  {
   "cell_type": "code",
   "execution_count": 52,
   "id": "c9770387",
   "metadata": {},
   "outputs": [],
   "source": [
    "# создадим массив ивентов, которые являются целевым действием\n",
    "target = ['sub_car_claim_click', 'sub_car_claim_submit_click', 'sub_open_dialog_click', 'sub_custom_question_submit_click',\n",
    "'sub_call_number_click', 'sub_callback_submit_click', 'sub_submit_success', 'sub_car_request_submit_click']"
   ]
  },
  {
   "cell_type": "code",
   "execution_count": 53,
   "id": "ea454cf4",
   "metadata": {},
   "outputs": [
    {
     "name": "stderr",
     "output_type": "stream",
     "text": [
      "<ipython-input-53-034e28da4e4e>:2: SettingWithCopyWarning: \n",
      "A value is trying to be set on a copy of a slice from a DataFrame.\n",
      "Try using .loc[row_indexer,col_indexer] = value instead\n",
      "\n",
      "See the caveats in the documentation: https://pandas.pydata.org/pandas-docs/stable/user_guide/indexing.html#returning-a-view-versus-a-copy\n",
      "  hits_target['target'] = np.where(hits['event_action'].isin(target), 1, 0)\n"
     ]
    }
   ],
   "source": [
    "# добавим в новый датасет колонку, где будет 0, если этому session_id соответсвует не целевое действие и 1, если совершено целевое действие\n",
    "hits_target['target'] = np.where(hits['event_action'].isin(target), 1, 0)"
   ]
  },
  {
   "cell_type": "code",
   "execution_count": 54,
   "id": "e5db75ba",
   "metadata": {},
   "outputs": [
    {
     "data": {
      "text/html": [
       "<div>\n",
       "<style scoped>\n",
       "    .dataframe tbody tr th:only-of-type {\n",
       "        vertical-align: middle;\n",
       "    }\n",
       "\n",
       "    .dataframe tbody tr th {\n",
       "        vertical-align: top;\n",
       "    }\n",
       "\n",
       "    .dataframe thead th {\n",
       "        text-align: right;\n",
       "    }\n",
       "</style>\n",
       "<table border=\"1\" class=\"dataframe\">\n",
       "  <thead>\n",
       "    <tr style=\"text-align: right;\">\n",
       "      <th></th>\n",
       "      <th>session_id</th>\n",
       "      <th>target</th>\n",
       "    </tr>\n",
       "  </thead>\n",
       "  <tbody>\n",
       "    <tr>\n",
       "      <th>0</th>\n",
       "      <td>5639623078712724064.1640254056.1640254056</td>\n",
       "      <td>0</td>\n",
       "    </tr>\n",
       "    <tr>\n",
       "      <th>1</th>\n",
       "      <td>7750352294969115059.1640271109.1640271109</td>\n",
       "      <td>0</td>\n",
       "    </tr>\n",
       "    <tr>\n",
       "      <th>2</th>\n",
       "      <td>885342191847998240.1640235807.1640235807</td>\n",
       "      <td>0</td>\n",
       "    </tr>\n",
       "    <tr>\n",
       "      <th>3</th>\n",
       "      <td>142526202120934167.1640211014.1640211014</td>\n",
       "      <td>0</td>\n",
       "    </tr>\n",
       "    <tr>\n",
       "      <th>4</th>\n",
       "      <td>3450086108837475701.1640265078.1640265078</td>\n",
       "      <td>0</td>\n",
       "    </tr>\n",
       "  </tbody>\n",
       "</table>\n",
       "</div>"
      ],
      "text/plain": [
       "                                  session_id  target\n",
       "0  5639623078712724064.1640254056.1640254056       0\n",
       "1  7750352294969115059.1640271109.1640271109       0\n",
       "2   885342191847998240.1640235807.1640235807       0\n",
       "3   142526202120934167.1640211014.1640211014       0\n",
       "4  3450086108837475701.1640265078.1640265078       0"
      ]
     },
     "execution_count": 54,
     "metadata": {},
     "output_type": "execute_result"
    }
   ],
   "source": [
    "hits_target.head()"
   ]
  },
  {
   "cell_type": "code",
   "execution_count": 55,
   "id": "1a886699",
   "metadata": {},
   "outputs": [
    {
     "data": {
      "text/plain": [
       "0    15621562\n",
       "1      104908\n",
       "Name: target, dtype: int64"
      ]
     },
     "execution_count": 55,
     "metadata": {},
     "output_type": "execute_result"
    }
   ],
   "source": [
    "hits_target.target.value_counts()"
   ]
  },
  {
   "cell_type": "code",
   "execution_count": 56,
   "id": "f0c04400",
   "metadata": {},
   "outputs": [],
   "source": [
    "#объединяем два датасета по признаку session_id\n",
    "df = file_clean.merge(hits_target)"
   ]
  },
  {
   "cell_type": "code",
   "execution_count": 57,
   "id": "f461bfa8",
   "metadata": {},
   "outputs": [
    {
     "data": {
      "text/html": [
       "<div>\n",
       "<style scoped>\n",
       "    .dataframe tbody tr th:only-of-type {\n",
       "        vertical-align: middle;\n",
       "    }\n",
       "\n",
       "    .dataframe tbody tr th {\n",
       "        vertical-align: top;\n",
       "    }\n",
       "\n",
       "    .dataframe thead th {\n",
       "        text-align: right;\n",
       "    }\n",
       "</style>\n",
       "<table border=\"1\" class=\"dataframe\">\n",
       "  <thead>\n",
       "    <tr style=\"text-align: right;\">\n",
       "      <th></th>\n",
       "      <th>session_id</th>\n",
       "      <th>client_id</th>\n",
       "      <th>visit_date</th>\n",
       "      <th>visit_time</th>\n",
       "      <th>visit_number</th>\n",
       "      <th>utm_source</th>\n",
       "      <th>utm_medium</th>\n",
       "      <th>utm_campaign</th>\n",
       "      <th>device_category</th>\n",
       "      <th>device_brand</th>\n",
       "      <th>device_screen_resolution</th>\n",
       "      <th>device_browser</th>\n",
       "      <th>geo_country</th>\n",
       "      <th>geo_city</th>\n",
       "      <th>target</th>\n",
       "    </tr>\n",
       "  </thead>\n",
       "  <tbody>\n",
       "    <tr>\n",
       "      <th>0</th>\n",
       "      <td>9055434745589932991.1637753792.1637753792</td>\n",
       "      <td>2108382700.163776</td>\n",
       "      <td>2021-11-24</td>\n",
       "      <td>14:36:32</td>\n",
       "      <td>1</td>\n",
       "      <td>ZpYIoDJMcFzVoPFsHGJL</td>\n",
       "      <td>banner</td>\n",
       "      <td>LEoPHuyFvzoNfnzGgfcd</td>\n",
       "      <td>mobile</td>\n",
       "      <td>Huawei</td>\n",
       "      <td>360x720</td>\n",
       "      <td>Chrome</td>\n",
       "      <td>Russia</td>\n",
       "      <td>Zlatoust</td>\n",
       "      <td>0</td>\n",
       "    </tr>\n",
       "    <tr>\n",
       "      <th>1</th>\n",
       "      <td>9055434745589932991.1637753792.1637753792</td>\n",
       "      <td>2108382700.163776</td>\n",
       "      <td>2021-11-24</td>\n",
       "      <td>14:36:32</td>\n",
       "      <td>1</td>\n",
       "      <td>ZpYIoDJMcFzVoPFsHGJL</td>\n",
       "      <td>banner</td>\n",
       "      <td>LEoPHuyFvzoNfnzGgfcd</td>\n",
       "      <td>mobile</td>\n",
       "      <td>Huawei</td>\n",
       "      <td>360x720</td>\n",
       "      <td>Chrome</td>\n",
       "      <td>Russia</td>\n",
       "      <td>Zlatoust</td>\n",
       "      <td>0</td>\n",
       "    </tr>\n",
       "    <tr>\n",
       "      <th>2</th>\n",
       "      <td>905544597018549464.1636867290.1636867290</td>\n",
       "      <td>210838531.163687</td>\n",
       "      <td>2021-11-14</td>\n",
       "      <td>08:21:30</td>\n",
       "      <td>1</td>\n",
       "      <td>MvfHsxITijuriZxsqZqt</td>\n",
       "      <td>cpm</td>\n",
       "      <td>FTjNLDyTrXaWYgZymFkV</td>\n",
       "      <td>mobile</td>\n",
       "      <td>Samsung</td>\n",
       "      <td>385x854</td>\n",
       "      <td>Samsung Internet</td>\n",
       "      <td>Russia</td>\n",
       "      <td>Moscow</td>\n",
       "      <td>0</td>\n",
       "    </tr>\n",
       "    <tr>\n",
       "      <th>3</th>\n",
       "      <td>9055446045651783499.1640648526.1640648526</td>\n",
       "      <td>2108385331.164065</td>\n",
       "      <td>2021-12-28</td>\n",
       "      <td>02:42:06</td>\n",
       "      <td>1</td>\n",
       "      <td>ZpYIoDJMcFzVoPFsHGJL</td>\n",
       "      <td>banner</td>\n",
       "      <td>LEoPHuyFvzoNfnzGgfcd</td>\n",
       "      <td>mobile</td>\n",
       "      <td>Huawei</td>\n",
       "      <td>360x720</td>\n",
       "      <td>Chrome</td>\n",
       "      <td>Russia</td>\n",
       "      <td>Krasnoyarsk</td>\n",
       "      <td>0</td>\n",
       "    </tr>\n",
       "    <tr>\n",
       "      <th>4</th>\n",
       "      <td>9055446045651783499.1640648526.1640648526</td>\n",
       "      <td>2108385331.164065</td>\n",
       "      <td>2021-12-28</td>\n",
       "      <td>02:42:06</td>\n",
       "      <td>1</td>\n",
       "      <td>ZpYIoDJMcFzVoPFsHGJL</td>\n",
       "      <td>banner</td>\n",
       "      <td>LEoPHuyFvzoNfnzGgfcd</td>\n",
       "      <td>mobile</td>\n",
       "      <td>Huawei</td>\n",
       "      <td>360x720</td>\n",
       "      <td>Chrome</td>\n",
       "      <td>Russia</td>\n",
       "      <td>Krasnoyarsk</td>\n",
       "      <td>0</td>\n",
       "    </tr>\n",
       "  </tbody>\n",
       "</table>\n",
       "</div>"
      ],
      "text/plain": [
       "                                  session_id          client_id  visit_date  \\\n",
       "0  9055434745589932991.1637753792.1637753792  2108382700.163776  2021-11-24   \n",
       "1  9055434745589932991.1637753792.1637753792  2108382700.163776  2021-11-24   \n",
       "2   905544597018549464.1636867290.1636867290   210838531.163687  2021-11-14   \n",
       "3  9055446045651783499.1640648526.1640648526  2108385331.164065  2021-12-28   \n",
       "4  9055446045651783499.1640648526.1640648526  2108385331.164065  2021-12-28   \n",
       "\n",
       "  visit_time  visit_number            utm_source utm_medium  \\\n",
       "0   14:36:32             1  ZpYIoDJMcFzVoPFsHGJL     banner   \n",
       "1   14:36:32             1  ZpYIoDJMcFzVoPFsHGJL     banner   \n",
       "2   08:21:30             1  MvfHsxITijuriZxsqZqt        cpm   \n",
       "3   02:42:06             1  ZpYIoDJMcFzVoPFsHGJL     banner   \n",
       "4   02:42:06             1  ZpYIoDJMcFzVoPFsHGJL     banner   \n",
       "\n",
       "           utm_campaign device_category device_brand device_screen_resolution  \\\n",
       "0  LEoPHuyFvzoNfnzGgfcd          mobile       Huawei                  360x720   \n",
       "1  LEoPHuyFvzoNfnzGgfcd          mobile       Huawei                  360x720   \n",
       "2  FTjNLDyTrXaWYgZymFkV          mobile      Samsung                  385x854   \n",
       "3  LEoPHuyFvzoNfnzGgfcd          mobile       Huawei                  360x720   \n",
       "4  LEoPHuyFvzoNfnzGgfcd          mobile       Huawei                  360x720   \n",
       "\n",
       "     device_browser geo_country     geo_city  target  \n",
       "0            Chrome      Russia     Zlatoust       0  \n",
       "1            Chrome      Russia     Zlatoust       0  \n",
       "2  Samsung Internet      Russia       Moscow       0  \n",
       "3            Chrome      Russia  Krasnoyarsk       0  \n",
       "4            Chrome      Russia  Krasnoyarsk       0  "
      ]
     },
     "execution_count": 57,
     "metadata": {},
     "output_type": "execute_result"
    }
   ],
   "source": [
    "df.head()"
   ]
  },
  {
   "cell_type": "code",
   "execution_count": 58,
   "id": "62d30cb6",
   "metadata": {},
   "outputs": [
    {
     "data": {
      "text/plain": [
       "session_id                  0.0\n",
       "client_id                   0.0\n",
       "visit_date                  0.0\n",
       "visit_time                  0.0\n",
       "visit_number                0.0\n",
       "utm_source                  0.0\n",
       "utm_medium                  0.0\n",
       "utm_campaign                0.0\n",
       "device_category             0.0\n",
       "device_brand                0.0\n",
       "device_screen_resolution    0.0\n",
       "device_browser              0.0\n",
       "geo_country                 0.0\n",
       "geo_city                    0.0\n",
       "target                      0.0\n",
       "dtype: float64"
      ]
     },
     "execution_count": 58,
     "metadata": {},
     "output_type": "execute_result"
    }
   ],
   "source": [
    "missing_values = ((df.isna().sum() / len(df)) * 100).sort_values()\n",
    "missing_values"
   ]
  },
  {
   "cell_type": "code",
   "execution_count": 59,
   "id": "1e66a03c",
   "metadata": {},
   "outputs": [
    {
     "data": {
      "text/plain": [
       "True     11948743\n",
       "False     1536903\n",
       "dtype: int64"
      ]
     },
     "execution_count": 59,
     "metadata": {},
     "output_type": "execute_result"
    }
   ],
   "source": [
    "# проверим, сколкьо дубликатов по сессиям есть в датасете\n",
    "df.duplicated(subset=['session_id']).value_counts()"
   ]
  },
  {
   "cell_type": "code",
   "execution_count": 60,
   "id": "d1327850",
   "metadata": {},
   "outputs": [],
   "source": [
    "# отсортируем датасет по убыванию значений колонки target, чтобы при удалении дубликатов по session_id удалялись строки с target= 0\n",
    "# и удалим дубликаты по колонке session_id\n",
    "df = df.sort_values('target', ascending=False).drop_duplicates('session_id').sort_index()"
   ]
  },
  {
   "cell_type": "code",
   "execution_count": 61,
   "id": "022ab67c",
   "metadata": {},
   "outputs": [
    {
     "data": {
      "text/html": [
       "<div>\n",
       "<style scoped>\n",
       "    .dataframe tbody tr th:only-of-type {\n",
       "        vertical-align: middle;\n",
       "    }\n",
       "\n",
       "    .dataframe tbody tr th {\n",
       "        vertical-align: top;\n",
       "    }\n",
       "\n",
       "    .dataframe thead th {\n",
       "        text-align: right;\n",
       "    }\n",
       "</style>\n",
       "<table border=\"1\" class=\"dataframe\">\n",
       "  <thead>\n",
       "    <tr style=\"text-align: right;\">\n",
       "      <th></th>\n",
       "      <th>session_id</th>\n",
       "      <th>client_id</th>\n",
       "      <th>visit_date</th>\n",
       "      <th>visit_time</th>\n",
       "      <th>visit_number</th>\n",
       "      <th>utm_source</th>\n",
       "      <th>utm_medium</th>\n",
       "      <th>utm_campaign</th>\n",
       "      <th>device_category</th>\n",
       "      <th>device_brand</th>\n",
       "      <th>device_screen_resolution</th>\n",
       "      <th>device_browser</th>\n",
       "      <th>geo_country</th>\n",
       "      <th>geo_city</th>\n",
       "      <th>target</th>\n",
       "    </tr>\n",
       "  </thead>\n",
       "  <tbody>\n",
       "    <tr>\n",
       "      <th>0</th>\n",
       "      <td>9055434745589932991.1637753792.1637753792</td>\n",
       "      <td>2108382700.163776</td>\n",
       "      <td>2021-11-24</td>\n",
       "      <td>14:36:32</td>\n",
       "      <td>1</td>\n",
       "      <td>ZpYIoDJMcFzVoPFsHGJL</td>\n",
       "      <td>banner</td>\n",
       "      <td>LEoPHuyFvzoNfnzGgfcd</td>\n",
       "      <td>mobile</td>\n",
       "      <td>Huawei</td>\n",
       "      <td>360x720</td>\n",
       "      <td>Chrome</td>\n",
       "      <td>Russia</td>\n",
       "      <td>Zlatoust</td>\n",
       "      <td>0</td>\n",
       "    </tr>\n",
       "    <tr>\n",
       "      <th>2</th>\n",
       "      <td>905544597018549464.1636867290.1636867290</td>\n",
       "      <td>210838531.163687</td>\n",
       "      <td>2021-11-14</td>\n",
       "      <td>08:21:30</td>\n",
       "      <td>1</td>\n",
       "      <td>MvfHsxITijuriZxsqZqt</td>\n",
       "      <td>cpm</td>\n",
       "      <td>FTjNLDyTrXaWYgZymFkV</td>\n",
       "      <td>mobile</td>\n",
       "      <td>Samsung</td>\n",
       "      <td>385x854</td>\n",
       "      <td>Samsung Internet</td>\n",
       "      <td>Russia</td>\n",
       "      <td>Moscow</td>\n",
       "      <td>0</td>\n",
       "    </tr>\n",
       "    <tr>\n",
       "      <th>3</th>\n",
       "      <td>9055446045651783499.1640648526.1640648526</td>\n",
       "      <td>2108385331.164065</td>\n",
       "      <td>2021-12-28</td>\n",
       "      <td>02:42:06</td>\n",
       "      <td>1</td>\n",
       "      <td>ZpYIoDJMcFzVoPFsHGJL</td>\n",
       "      <td>banner</td>\n",
       "      <td>LEoPHuyFvzoNfnzGgfcd</td>\n",
       "      <td>mobile</td>\n",
       "      <td>Huawei</td>\n",
       "      <td>360x720</td>\n",
       "      <td>Chrome</td>\n",
       "      <td>Russia</td>\n",
       "      <td>Krasnoyarsk</td>\n",
       "      <td>0</td>\n",
       "    </tr>\n",
       "    <tr>\n",
       "      <th>37</th>\n",
       "      <td>9055447192389856083.1622453074.1622453074</td>\n",
       "      <td>2108385598.162245</td>\n",
       "      <td>2021-05-31</td>\n",
       "      <td>12:00:00</td>\n",
       "      <td>1</td>\n",
       "      <td>kjsLglQLzykiRbcDiGcD</td>\n",
       "      <td>organic</td>\n",
       "      <td>LTuZkdKfxRGVceoWkVyg</td>\n",
       "      <td>mobile</td>\n",
       "      <td>Apple</td>\n",
       "      <td>375x812</td>\n",
       "      <td>Safari</td>\n",
       "      <td>Russia</td>\n",
       "      <td>Saint Petersburg</td>\n",
       "      <td>0</td>\n",
       "    </tr>\n",
       "    <tr>\n",
       "      <th>78</th>\n",
       "      <td>9055455318486370642.1640843788.1640843788</td>\n",
       "      <td>2108387490.164084</td>\n",
       "      <td>2021-12-30</td>\n",
       "      <td>08:56:28</td>\n",
       "      <td>1</td>\n",
       "      <td>TxKUcPpthBDPieTGmVhx</td>\n",
       "      <td>cpc</td>\n",
       "      <td>FTjNLDyTrXaWYgZymFkV</td>\n",
       "      <td>tablet</td>\n",
       "      <td>Lenovo</td>\n",
       "      <td>602x1029</td>\n",
       "      <td>YaBrowser</td>\n",
       "      <td>Russia</td>\n",
       "      <td>Saint Petersburg</td>\n",
       "      <td>0</td>\n",
       "    </tr>\n",
       "  </tbody>\n",
       "</table>\n",
       "</div>"
      ],
      "text/plain": [
       "                                   session_id          client_id  visit_date  \\\n",
       "0   9055434745589932991.1637753792.1637753792  2108382700.163776  2021-11-24   \n",
       "2    905544597018549464.1636867290.1636867290   210838531.163687  2021-11-14   \n",
       "3   9055446045651783499.1640648526.1640648526  2108385331.164065  2021-12-28   \n",
       "37  9055447192389856083.1622453074.1622453074  2108385598.162245  2021-05-31   \n",
       "78  9055455318486370642.1640843788.1640843788  2108387490.164084  2021-12-30   \n",
       "\n",
       "   visit_time  visit_number            utm_source utm_medium  \\\n",
       "0    14:36:32             1  ZpYIoDJMcFzVoPFsHGJL     banner   \n",
       "2    08:21:30             1  MvfHsxITijuriZxsqZqt        cpm   \n",
       "3    02:42:06             1  ZpYIoDJMcFzVoPFsHGJL     banner   \n",
       "37   12:00:00             1  kjsLglQLzykiRbcDiGcD    organic   \n",
       "78   08:56:28             1  TxKUcPpthBDPieTGmVhx        cpc   \n",
       "\n",
       "            utm_campaign device_category device_brand  \\\n",
       "0   LEoPHuyFvzoNfnzGgfcd          mobile       Huawei   \n",
       "2   FTjNLDyTrXaWYgZymFkV          mobile      Samsung   \n",
       "3   LEoPHuyFvzoNfnzGgfcd          mobile       Huawei   \n",
       "37  LTuZkdKfxRGVceoWkVyg          mobile        Apple   \n",
       "78  FTjNLDyTrXaWYgZymFkV          tablet       Lenovo   \n",
       "\n",
       "   device_screen_resolution    device_browser geo_country          geo_city  \\\n",
       "0                   360x720            Chrome      Russia          Zlatoust   \n",
       "2                   385x854  Samsung Internet      Russia            Moscow   \n",
       "3                   360x720            Chrome      Russia       Krasnoyarsk   \n",
       "37                  375x812            Safari      Russia  Saint Petersburg   \n",
       "78                 602x1029         YaBrowser      Russia  Saint Petersburg   \n",
       "\n",
       "    target  \n",
       "0        0  \n",
       "2        0  \n",
       "3        0  \n",
       "37       0  \n",
       "78       0  "
      ]
     },
     "execution_count": 61,
     "metadata": {},
     "output_type": "execute_result"
    }
   ],
   "source": [
    "df.head()"
   ]
  },
  {
   "cell_type": "markdown",
   "id": "3575bc08",
   "metadata": {},
   "source": [
    "## Feature Engineering"
   ]
  },
  {
   "cell_type": "code",
   "execution_count": 62,
   "id": "0594a7c0",
   "metadata": {},
   "outputs": [],
   "source": [
    "# перед работай с фичами, скопируем наш датасет\n",
    "df_features = df.copy()"
   ]
  },
  {
   "cell_type": "code",
   "execution_count": null,
   "id": "2f1877ca",
   "metadata": {},
   "outputs": [],
   "source": []
  },
  {
   "cell_type": "code",
   "execution_count": 63,
   "id": "a729918f",
   "metadata": {},
   "outputs": [
    {
     "data": {
      "text/html": [
       "<div>\n",
       "<style scoped>\n",
       "    .dataframe tbody tr th:only-of-type {\n",
       "        vertical-align: middle;\n",
       "    }\n",
       "\n",
       "    .dataframe tbody tr th {\n",
       "        vertical-align: top;\n",
       "    }\n",
       "\n",
       "    .dataframe thead th {\n",
       "        text-align: right;\n",
       "    }\n",
       "</style>\n",
       "<table border=\"1\" class=\"dataframe\">\n",
       "  <thead>\n",
       "    <tr style=\"text-align: right;\">\n",
       "      <th></th>\n",
       "      <th>Column_Name</th>\n",
       "      <th>Num_Unique</th>\n",
       "    </tr>\n",
       "  </thead>\n",
       "  <tbody>\n",
       "    <tr>\n",
       "      <th>14</th>\n",
       "      <td>target</td>\n",
       "      <td>2</td>\n",
       "    </tr>\n",
       "    <tr>\n",
       "      <th>8</th>\n",
       "      <td>device_category</td>\n",
       "      <td>3</td>\n",
       "    </tr>\n",
       "    <tr>\n",
       "      <th>6</th>\n",
       "      <td>utm_medium</td>\n",
       "      <td>50</td>\n",
       "    </tr>\n",
       "    <tr>\n",
       "      <th>11</th>\n",
       "      <td>device_browser</td>\n",
       "      <td>53</td>\n",
       "    </tr>\n",
       "    <tr>\n",
       "      <th>12</th>\n",
       "      <td>geo_country</td>\n",
       "      <td>156</td>\n",
       "    </tr>\n",
       "    <tr>\n",
       "      <th>9</th>\n",
       "      <td>device_brand</td>\n",
       "      <td>199</td>\n",
       "    </tr>\n",
       "    <tr>\n",
       "      <th>2</th>\n",
       "      <td>visit_date</td>\n",
       "      <td>226</td>\n",
       "    </tr>\n",
       "    <tr>\n",
       "      <th>5</th>\n",
       "      <td>utm_source</td>\n",
       "      <td>278</td>\n",
       "    </tr>\n",
       "    <tr>\n",
       "      <th>7</th>\n",
       "      <td>utm_campaign</td>\n",
       "      <td>406</td>\n",
       "    </tr>\n",
       "    <tr>\n",
       "      <th>4</th>\n",
       "      <td>visit_number</td>\n",
       "      <td>430</td>\n",
       "    </tr>\n",
       "    <tr>\n",
       "      <th>13</th>\n",
       "      <td>geo_city</td>\n",
       "      <td>2312</td>\n",
       "    </tr>\n",
       "    <tr>\n",
       "      <th>10</th>\n",
       "      <td>device_screen_resolution</td>\n",
       "      <td>4778</td>\n",
       "    </tr>\n",
       "    <tr>\n",
       "      <th>3</th>\n",
       "      <td>visit_time</td>\n",
       "      <td>84693</td>\n",
       "    </tr>\n",
       "    <tr>\n",
       "      <th>1</th>\n",
       "      <td>client_id</td>\n",
       "      <td>1231169</td>\n",
       "    </tr>\n",
       "    <tr>\n",
       "      <th>0</th>\n",
       "      <td>session_id</td>\n",
       "      <td>1536903</td>\n",
       "    </tr>\n",
       "  </tbody>\n",
       "</table>\n",
       "</div>"
      ],
      "text/plain": [
       "                 Column_Name  Num_Unique\n",
       "14                    target           2\n",
       "8            device_category           3\n",
       "6                 utm_medium          50\n",
       "11            device_browser          53\n",
       "12               geo_country         156\n",
       "9               device_brand         199\n",
       "2                 visit_date         226\n",
       "5                 utm_source         278\n",
       "7               utm_campaign         406\n",
       "4               visit_number         430\n",
       "13                  geo_city        2312\n",
       "10  device_screen_resolution        4778\n",
       "3                 visit_time       84693\n",
       "1                  client_id     1231169\n",
       "0                 session_id     1536903"
      ]
     },
     "execution_count": 63,
     "metadata": {},
     "output_type": "execute_result"
    }
   ],
   "source": [
    "# посомтрим, сколько уникальных значений в каждом столбце датасета\n",
    "unique_counts = pd.DataFrame.from_records([(col, df_features[col].nunique()) for col in df_features.columns],\n",
    "                                          columns=['Column_Name', 'Num_Unique']).sort_values(by=['Num_Unique'])\n",
    "unique_counts"
   ]
  },
  {
   "cell_type": "code",
   "execution_count": 64,
   "id": "e5e66aa6",
   "metadata": {},
   "outputs": [
    {
     "data": {
      "text/plain": [
       "Russia                 1491631\n",
       "Ukraine                   8081\n",
       "United States             7409\n",
       "Belarus                   3070\n",
       "Kazakhstan                1983\n",
       "                        ...   \n",
       "Paraguay                     1\n",
       "New Caledonia                1\n",
       "Burundi                      1\n",
       "Yemen                        1\n",
       "Congo - Brazzaville          1\n",
       "Name: geo_country, Length: 156, dtype: int64"
      ]
     },
     "execution_count": 64,
     "metadata": {},
     "output_type": "execute_result"
    }
   ],
   "source": [
    "# необходимо сократить количсевто уникальных значений в колонках, котоыре станут категориальными признаками\n",
    "# посмотрим на значения колонки geo_country\n",
    "df_features.geo_country.value_counts()"
   ]
  },
  {
   "cell_type": "code",
   "execution_count": 65,
   "id": "a7a92278",
   "metadata": {},
   "outputs": [],
   "source": [
    "# т.к. сервис Автоподписки работает только с клиентами из России, все остальные страны замеим на 'other'\n",
    "df_features.loc[df_features['geo_country'] != 'Russia', 'geo_country'] = 'other'"
   ]
  },
  {
   "cell_type": "code",
   "execution_count": 66,
   "id": "d9e2779f",
   "metadata": {},
   "outputs": [
    {
     "data": {
      "text/plain": [
       "Russia    1491631\n",
       "other       45272\n",
       "Name: geo_country, dtype: int64"
      ]
     },
     "execution_count": 66,
     "metadata": {},
     "output_type": "execute_result"
    }
   ],
   "source": [
    "df_features.geo_country.value_counts()"
   ]
  },
  {
   "cell_type": "code",
   "execution_count": 67,
   "id": "f3fbe435",
   "metadata": {
    "scrolled": true
   },
   "outputs": [],
   "source": [
    "# обработаем колонку 'device_screen_resolution'\n",
    "# чтобы перевести эту фичу в числовой формат, разобъем эту колонку на два значения: 'screen_width' и 'screen_height'\n",
    "# и присвоим новым колонкам тип int\n",
    "df_features[['screen_width', 'screen_height']] = df.device_screen_resolution.str.split('x', expand = True).astype(int)"
   ]
  },
  {
   "cell_type": "code",
   "execution_count": 68,
   "id": "e0f1a53d",
   "metadata": {},
   "outputs": [],
   "source": [
    "# удалим исходную колонку 'device_screen_resolution'\n",
    "df_features.drop(columns=['device_screen_resolution'], inplace=True)"
   ]
  },
  {
   "cell_type": "code",
   "execution_count": 69,
   "id": "2823d693",
   "metadata": {},
   "outputs": [
    {
     "data": {
      "text/html": [
       "<div>\n",
       "<style scoped>\n",
       "    .dataframe tbody tr th:only-of-type {\n",
       "        vertical-align: middle;\n",
       "    }\n",
       "\n",
       "    .dataframe tbody tr th {\n",
       "        vertical-align: top;\n",
       "    }\n",
       "\n",
       "    .dataframe thead th {\n",
       "        text-align: right;\n",
       "    }\n",
       "</style>\n",
       "<table border=\"1\" class=\"dataframe\">\n",
       "  <thead>\n",
       "    <tr style=\"text-align: right;\">\n",
       "      <th></th>\n",
       "      <th>visit_number</th>\n",
       "      <th>target</th>\n",
       "      <th>screen_width</th>\n",
       "      <th>screen_height</th>\n",
       "    </tr>\n",
       "  </thead>\n",
       "  <tbody>\n",
       "    <tr>\n",
       "      <th>visit_number</th>\n",
       "      <td>1.000000</td>\n",
       "      <td>0.016271</td>\n",
       "      <td>0.123272</td>\n",
       "      <td>0.037630</td>\n",
       "    </tr>\n",
       "    <tr>\n",
       "      <th>target</th>\n",
       "      <td>0.016271</td>\n",
       "      <td>1.000000</td>\n",
       "      <td>0.005902</td>\n",
       "      <td>0.009228</td>\n",
       "    </tr>\n",
       "    <tr>\n",
       "      <th>screen_width</th>\n",
       "      <td>0.123272</td>\n",
       "      <td>0.005902</td>\n",
       "      <td>1.000000</td>\n",
       "      <td>0.527991</td>\n",
       "    </tr>\n",
       "    <tr>\n",
       "      <th>screen_height</th>\n",
       "      <td>0.037630</td>\n",
       "      <td>0.009228</td>\n",
       "      <td>0.527991</td>\n",
       "      <td>1.000000</td>\n",
       "    </tr>\n",
       "  </tbody>\n",
       "</table>\n",
       "</div>"
      ],
      "text/plain": [
       "               visit_number    target  screen_width  screen_height\n",
       "visit_number       1.000000  0.016271      0.123272       0.037630\n",
       "target             0.016271  1.000000      0.005902       0.009228\n",
       "screen_width       0.123272  0.005902      1.000000       0.527991\n",
       "screen_height      0.037630  0.009228      0.527991       1.000000"
      ]
     },
     "execution_count": 69,
     "metadata": {},
     "output_type": "execute_result"
    }
   ],
   "source": [
    "# предположительно, ширина и длина экрана будут коррелировать между собой, проверим это\n",
    "df_features.corr()"
   ]
  },
  {
   "cell_type": "code",
   "execution_count": 70,
   "id": "b6548956",
   "metadata": {},
   "outputs": [],
   "source": [
    "# т.к. колонки 'screen_width' и 'screen_height' коррелируют между собой, рассчитаем по ним один признак: диагональ экрана \n",
    "df_features['diagonal'] = np.sqrt(df_features.screen_width**2 + df_features.screen_height**2)"
   ]
  },
  {
   "cell_type": "code",
   "execution_count": 71,
   "id": "9092b50f",
   "metadata": {},
   "outputs": [
    {
     "data": {
      "text/plain": [
       "987.021783     133266\n",
       "937.363323     105964\n",
       "2202.907170     97951\n",
       "894.409861      91132\n",
       "859.069264      82709\n",
       "                ...  \n",
       "1046.721071         1\n",
       "811.510320          1\n",
       "1087.494828         1\n",
       "911.004940          1\n",
       "1215.082302         1\n",
       "Name: diagonal, Length: 4432, dtype: int64"
      ]
     },
     "execution_count": 71,
     "metadata": {},
     "output_type": "execute_result"
    }
   ],
   "source": [
    "df_features['diagonal'].value_counts()"
   ]
  },
  {
   "cell_type": "code",
   "execution_count": 72,
   "id": "77b323a1",
   "metadata": {},
   "outputs": [
    {
     "data": {
      "text/plain": [
       "Text(0, 0.5, 'Диагональ экрана')"
      ]
     },
     "execution_count": 72,
     "metadata": {},
     "output_type": "execute_result"
    },
    {
     "data": {
      "image/png": "[encoded data removed]",
      "text/plain": [
       "<Figure size 576x576 with 1 Axes>"
      ]
     },
     "metadata": {
      "needs_background": "light"
     },
     "output_type": "display_data"
    }
   ],
   "source": [
    "# посмотрим, есть ли выбросы в 'diagonal'\n",
    "fig, ax = plt.subplots(figsize=(8, 8))\n",
    "ax.boxplot(df_features.diagonal)\n",
    "ax.set_ylabel('Диагональ экрана')"
   ]
  },
  {
   "cell_type": "code",
   "execution_count": 73,
   "id": "360a66eb",
   "metadata": {},
   "outputs": [],
   "source": [
    "# напишем функцию определения границ диапазона без выбросов\n",
    "def calculate_outliers(data):\n",
    "    q25 = data.quantile(0.25)\n",
    "    q75 = data.quantile(0.75)\n",
    "    iqr = q75 - q25\n",
    "    boundaries = (q25 - 1.5 * iqr, q75 + 1.5 * iqr)\n",
    "    return boundaries"
   ]
  },
  {
   "cell_type": "code",
   "execution_count": 74,
   "id": "2b533549",
   "metadata": {},
   "outputs": [
    {
     "name": "stdout",
     "output_type": "stream",
     "text": [
      "В колонке diagonal 294679 выбросов вверх\n",
      "В колонке diagonal 2557 выбросов вниз\n"
     ]
    }
   ],
   "source": [
    "# рассчитаем количсество выбросов в колонке 'diagonal'\n",
    "boundaries = calculate_outliers(df_features.diagonal)\n",
    "up_outlier = (df_features.diagonal > boundaries[1])\n",
    "down_outlier  = (df_features.diagonal < boundaries[0])           \n",
    "print(f'В колонке diagonal {up_outlier.sum()} выбросов вверх')\n",
    "print(f'В колонке diagonal {down_outlier.sum()} выбросов вниз')              "
   ]
  },
  {
   "cell_type": "code",
   "execution_count": 75,
   "id": "8d0cc897",
   "metadata": {},
   "outputs": [],
   "source": [
    "# заменим выбросы на крайние значения\n",
    "df_features.loc[up_outlier, 'diagonal'] = int(boundaries[1])\n",
    "df_features.loc[down_outlier, 'diagonal'] = int(boundaries[0])"
   ]
  },
  {
   "cell_type": "code",
   "execution_count": 76,
   "id": "631036fa",
   "metadata": {},
   "outputs": [
    {
     "data": {
      "text/plain": [
       "Text(0, 0.5, 'Диагональ экрана')"
      ]
     },
     "execution_count": 76,
     "metadata": {},
     "output_type": "execute_result"
    },
    {
     "data": {
      "image/png": "[encoded data removed]",
      "text/plain": [
       "<Figure size 576x576 with 1 Axes>"
      ]
     },
     "metadata": {
      "needs_background": "light"
     },
     "output_type": "display_data"
    }
   ],
   "source": [
    "# убедимся, что выбросов в колонке 'diagonal' не осталось\n",
    "fig, ax = plt.subplots(figsize=(8, 8))\n",
    "ax.boxplot(df_features.diagonal)\n",
    "ax.set_ylabel('Диагональ экрана')"
   ]
  },
  {
   "cell_type": "code",
   "execution_count": 77,
   "id": "7291da62",
   "metadata": {},
   "outputs": [],
   "source": [
    "# удалим исходные столбцы 'screen_width', 'screen_height'\n",
    "df_features.drop(columns=['screen_width', 'screen_height'], inplace=True)"
   ]
  },
  {
   "cell_type": "code",
   "execution_count": 78,
   "id": "42b97a4b",
   "metadata": {},
   "outputs": [],
   "source": [
    "# преобразуем колонку 'visit_date' в формат datetime\n",
    "df_features['visit_date'] = pd.to_datetime(df_features['visit_date'])"
   ]
  },
  {
   "cell_type": "code",
   "execution_count": 79,
   "id": "fbe75314",
   "metadata": {},
   "outputs": [],
   "source": [
    "# введем признак 'day_of_year' вместо даты\n",
    "df_features['day_of_year'] = df_features['visit_date'].dt.dayofyear"
   ]
  },
  {
   "cell_type": "code",
   "execution_count": 80,
   "id": "ec54366e",
   "metadata": {},
   "outputs": [],
   "source": [
    "# удалим исходный столбец 'visit_date'\n",
    "df_features.drop(columns=['visit_date'], inplace=True)"
   ]
  },
  {
   "cell_type": "code",
   "execution_count": 81,
   "id": "cf05efd8",
   "metadata": {},
   "outputs": [],
   "source": [
    "# обоработаем колонку 'visit_time'\n",
    "# разделим дату на три новых колонки: 'hour', 'minute', 'second'\n",
    "# и присвоим новым колонкам тип int\n",
    "df_features[['hour', 'minute', 'second']] = df_features.visit_time.str.split(':', expand = True).astype(int)"
   ]
  },
  {
   "cell_type": "code",
   "execution_count": 82,
   "id": "83e05af5",
   "metadata": {},
   "outputs": [],
   "source": [
    "# сделаем одну информативную фичу 'total_seconds' по данным колонок 'hour', 'minute', 'second'\n",
    "df_features['total_seconds'] = df_features.second + df_features.minute * 60 + df_features.hour * 60 *60"
   ]
  },
  {
   "cell_type": "code",
   "execution_count": 83,
   "id": "44a66158",
   "metadata": {},
   "outputs": [],
   "source": [
    "# удалим уже ненужные колонки 'visit_time', 'hour', 'minute', 'second'\n",
    "df_features.drop(columns=['visit_time', 'hour', 'minute', 'second'], inplace = True)"
   ]
  },
  {
   "cell_type": "code",
   "execution_count": 84,
   "id": "faed9eb5",
   "metadata": {},
   "outputs": [
    {
     "data": {
      "text/html": [
       "<div>\n",
       "<style scoped>\n",
       "    .dataframe tbody tr th:only-of-type {\n",
       "        vertical-align: middle;\n",
       "    }\n",
       "\n",
       "    .dataframe tbody tr th {\n",
       "        vertical-align: top;\n",
       "    }\n",
       "\n",
       "    .dataframe thead th {\n",
       "        text-align: right;\n",
       "    }\n",
       "</style>\n",
       "<table border=\"1\" class=\"dataframe\">\n",
       "  <thead>\n",
       "    <tr style=\"text-align: right;\">\n",
       "      <th></th>\n",
       "      <th>session_id</th>\n",
       "      <th>client_id</th>\n",
       "      <th>visit_number</th>\n",
       "      <th>utm_source</th>\n",
       "      <th>utm_medium</th>\n",
       "      <th>utm_campaign</th>\n",
       "      <th>device_category</th>\n",
       "      <th>device_brand</th>\n",
       "      <th>device_browser</th>\n",
       "      <th>geo_country</th>\n",
       "      <th>geo_city</th>\n",
       "      <th>target</th>\n",
       "      <th>diagonal</th>\n",
       "      <th>day_of_year</th>\n",
       "      <th>total_seconds</th>\n",
       "    </tr>\n",
       "  </thead>\n",
       "  <tbody>\n",
       "    <tr>\n",
       "      <th>0</th>\n",
       "      <td>9055434745589932991.1637753792.1637753792</td>\n",
       "      <td>2108382700.163776</td>\n",
       "      <td>1</td>\n",
       "      <td>ZpYIoDJMcFzVoPFsHGJL</td>\n",
       "      <td>banner</td>\n",
       "      <td>LEoPHuyFvzoNfnzGgfcd</td>\n",
       "      <td>mobile</td>\n",
       "      <td>Huawei</td>\n",
       "      <td>Chrome</td>\n",
       "      <td>Russia</td>\n",
       "      <td>Zlatoust</td>\n",
       "      <td>0</td>\n",
       "      <td>804.984472</td>\n",
       "      <td>328</td>\n",
       "      <td>52592</td>\n",
       "    </tr>\n",
       "    <tr>\n",
       "      <th>2</th>\n",
       "      <td>905544597018549464.1636867290.1636867290</td>\n",
       "      <td>210838531.163687</td>\n",
       "      <td>1</td>\n",
       "      <td>MvfHsxITijuriZxsqZqt</td>\n",
       "      <td>cpm</td>\n",
       "      <td>FTjNLDyTrXaWYgZymFkV</td>\n",
       "      <td>mobile</td>\n",
       "      <td>Samsung</td>\n",
       "      <td>Samsung Internet</td>\n",
       "      <td>Russia</td>\n",
       "      <td>Moscow</td>\n",
       "      <td>0</td>\n",
       "      <td>936.771584</td>\n",
       "      <td>318</td>\n",
       "      <td>30090</td>\n",
       "    </tr>\n",
       "    <tr>\n",
       "      <th>3</th>\n",
       "      <td>9055446045651783499.1640648526.1640648526</td>\n",
       "      <td>2108385331.164065</td>\n",
       "      <td>1</td>\n",
       "      <td>ZpYIoDJMcFzVoPFsHGJL</td>\n",
       "      <td>banner</td>\n",
       "      <td>LEoPHuyFvzoNfnzGgfcd</td>\n",
       "      <td>mobile</td>\n",
       "      <td>Huawei</td>\n",
       "      <td>Chrome</td>\n",
       "      <td>Russia</td>\n",
       "      <td>Krasnoyarsk</td>\n",
       "      <td>0</td>\n",
       "      <td>804.984472</td>\n",
       "      <td>362</td>\n",
       "      <td>9726</td>\n",
       "    </tr>\n",
       "    <tr>\n",
       "      <th>37</th>\n",
       "      <td>9055447192389856083.1622453074.1622453074</td>\n",
       "      <td>2108385598.162245</td>\n",
       "      <td>1</td>\n",
       "      <td>kjsLglQLzykiRbcDiGcD</td>\n",
       "      <td>organic</td>\n",
       "      <td>LTuZkdKfxRGVceoWkVyg</td>\n",
       "      <td>mobile</td>\n",
       "      <td>Apple</td>\n",
       "      <td>Safari</td>\n",
       "      <td>Russia</td>\n",
       "      <td>Saint Petersburg</td>\n",
       "      <td>0</td>\n",
       "      <td>894.409861</td>\n",
       "      <td>151</td>\n",
       "      <td>43200</td>\n",
       "    </tr>\n",
       "    <tr>\n",
       "      <th>78</th>\n",
       "      <td>9055455318486370642.1640843788.1640843788</td>\n",
       "      <td>2108387490.164084</td>\n",
       "      <td>1</td>\n",
       "      <td>TxKUcPpthBDPieTGmVhx</td>\n",
       "      <td>cpc</td>\n",
       "      <td>FTjNLDyTrXaWYgZymFkV</td>\n",
       "      <td>tablet</td>\n",
       "      <td>Lenovo</td>\n",
       "      <td>YaBrowser</td>\n",
       "      <td>Russia</td>\n",
       "      <td>Saint Petersburg</td>\n",
       "      <td>0</td>\n",
       "      <td>1192.159805</td>\n",
       "      <td>364</td>\n",
       "      <td>32188</td>\n",
       "    </tr>\n",
       "  </tbody>\n",
       "</table>\n",
       "</div>"
      ],
      "text/plain": [
       "                                   session_id          client_id  \\\n",
       "0   9055434745589932991.1637753792.1637753792  2108382700.163776   \n",
       "2    905544597018549464.1636867290.1636867290   210838531.163687   \n",
       "3   9055446045651783499.1640648526.1640648526  2108385331.164065   \n",
       "37  9055447192389856083.1622453074.1622453074  2108385598.162245   \n",
       "78  9055455318486370642.1640843788.1640843788  2108387490.164084   \n",
       "\n",
       "    visit_number            utm_source utm_medium          utm_campaign  \\\n",
       "0              1  ZpYIoDJMcFzVoPFsHGJL     banner  LEoPHuyFvzoNfnzGgfcd   \n",
       "2              1  MvfHsxITijuriZxsqZqt        cpm  FTjNLDyTrXaWYgZymFkV   \n",
       "3              1  ZpYIoDJMcFzVoPFsHGJL     banner  LEoPHuyFvzoNfnzGgfcd   \n",
       "37             1  kjsLglQLzykiRbcDiGcD    organic  LTuZkdKfxRGVceoWkVyg   \n",
       "78             1  TxKUcPpthBDPieTGmVhx        cpc  FTjNLDyTrXaWYgZymFkV   \n",
       "\n",
       "   device_category device_brand    device_browser geo_country  \\\n",
       "0           mobile       Huawei            Chrome      Russia   \n",
       "2           mobile      Samsung  Samsung Internet      Russia   \n",
       "3           mobile       Huawei            Chrome      Russia   \n",
       "37          mobile        Apple            Safari      Russia   \n",
       "78          tablet       Lenovo         YaBrowser      Russia   \n",
       "\n",
       "            geo_city  target     diagonal  day_of_year  total_seconds  \n",
       "0           Zlatoust       0   804.984472          328          52592  \n",
       "2             Moscow       0   936.771584          318          30090  \n",
       "3        Krasnoyarsk       0   804.984472          362           9726  \n",
       "37  Saint Petersburg       0   894.409861          151          43200  \n",
       "78  Saint Petersburg       0  1192.159805          364          32188  "
      ]
     },
     "execution_count": 84,
     "metadata": {},
     "output_type": "execute_result"
    }
   ],
   "source": [
    "df_features.head()"
   ]
  },
  {
   "cell_type": "code",
   "execution_count": 85,
   "id": "251746da",
   "metadata": {},
   "outputs": [
    {
     "data": {
      "text/plain": [
       "Moscow              642481\n",
       "Saint Petersburg    237448\n",
       "(not set)            63429\n",
       "Yekaterinburg        32812\n",
       "Krasnodar            29412\n",
       "                     ...  \n",
       "Torre del Mar            1\n",
       "Shyroke                  1\n",
       "Araure                   1\n",
       "Kragujevac               1\n",
       "Hagenow                  1\n",
       "Name: geo_city, Length: 2312, dtype: int64"
      ]
     },
     "execution_count": 85,
     "metadata": {},
     "output_type": "execute_result"
    }
   ],
   "source": [
    "# названия городов из колонки 'geo_city' преобразуем в географические координаты\n",
    "# посомтрим, значения принимает колонка 'geo_city'\n",
    "df_features.geo_city.value_counts()"
   ]
  },
  {
   "cell_type": "code",
   "execution_count": 86,
   "id": "54978468",
   "metadata": {},
   "outputs": [
    {
     "data": {
      "text/plain": [
       "4.1270659241344445"
      ]
     },
     "execution_count": 86,
     "metadata": {},
     "output_type": "execute_result"
    }
   ],
   "source": [
    "# видим значения '(not set)', которое интерпретируется как пустое значение\n",
    "# посчитаем, сколько процентов от датасета со значением '(not set)' в колонке 'geo_city'\n",
    "geo_city_not_set_number = ((len(df_features[df_features['geo_city'] == '(not set)']) / len(df_features)) * 100)\n",
    "geo_city_not_set_number"
   ]
  },
  {
   "cell_type": "code",
   "execution_count": 87,
   "id": "4d0236b4",
   "metadata": {},
   "outputs": [],
   "source": [
    "# т.к. значений '(not set)' в колонке 'geo_city' немного, около 4%, удалим эти строки из датасета\n",
    "df_features.drop(df_features[df_features['geo_city'] == '(not set)'].index, inplace=True)"
   ]
  },
  {
   "cell_type": "code",
   "execution_count": 88,
   "id": "eedb5fdb",
   "metadata": {},
   "outputs": [],
   "source": [
    "# для получения координат города используем бибилиотеку geopy\n",
    "#!pip install geopy\n",
    "from geopy.geocoders import Nominatim\n",
    "from geopy.extra.rate_limiter import RateLimiter"
   ]
  },
  {
   "cell_type": "code",
   "execution_count": 89,
   "id": "cd36ca7e",
   "metadata": {},
   "outputs": [],
   "source": [
    "# функция для запроса координат по названию города\n",
    "def get_coord(city):\n",
    "    geolocator = Nominatim(user_agent=\"my_request\")\n",
    "    geocode = RateLimiter(geolocator.geocode, min_delay_seconds=1)\n",
    "    try:\n",
    "        location = geolocator.geocode(city)\n",
    "        if location:\n",
    "            lat = geolocator.geocode(city).latitude\n",
    "            lon = geolocator.geocode(city).longitude\n",
    "            return lat, lon\n",
    "        else:\n",
    "            return 0, 0\n",
    "    except:\n",
    "        return 0, 0"
   ]
  },
  {
   "cell_type": "code",
   "execution_count": 90,
   "id": "460f32c0",
   "metadata": {},
   "outputs": [
    {
     "name": "stderr",
     "output_type": "stream",
     "text": [
      "100%|██████████████████████████████████████████████████████████████████████████████| 2311/2311 [57:07<00:00,  1.48s/it]\n"
     ]
    }
   ],
   "source": [
    "# создадим пустые массивы для значений широты и долготы\n",
    "# и будем вызывать функцию получения координат для всех уникальных значений из колонки 'geo_city'\n",
    "latitude_array = []\n",
    "longitude_array = []\n",
    "for i in tqdm(range(len(df_features.geo_city.unique()))):\n",
    "    city = df_features.geo_city.unique()[i]\n",
    "    lat, lon = get_coord(city)\n",
    "    latitude_array.append(lat)\n",
    "    longitude_array.append(lon)"
   ]
  },
  {
   "cell_type": "code",
   "execution_count": 92,
   "id": "59c95dbf",
   "metadata": {},
   "outputs": [],
   "source": [
    "# преобразуем полученный массив с широтой в словарь с ключами - названиями городов\n",
    "latitude_dict = {df_features.geo_city.unique()[i]: latitude_array[i] for i in range(len(latitude_array))}"
   ]
  },
  {
   "cell_type": "code",
   "execution_count": 93,
   "id": "4e531ae7",
   "metadata": {},
   "outputs": [],
   "source": [
    "# преобразуем полученный массив с долготой в словарь с ключами - названиями городов\n",
    "longitude_dict = {df_features.geo_city.unique()[i]: longitude_array[i] for i in range(len(longitude_array))}"
   ]
  },
  {
   "cell_type": "code",
   "execution_count": 94,
   "id": "22629152",
   "metadata": {},
   "outputs": [],
   "source": [
    "# добавим в наш датасет столбцы 'latitude' и 'longitude' с долготой и широтой\n",
    "df_features['latitude'] = df_features['geo_city'].map(latitude_dict)\n",
    "df_features['longitude'] = df_features['geo_city'].map(longitude_dict)"
   ]
  },
  {
   "cell_type": "code",
   "execution_count": 95,
   "id": "c783fdea",
   "metadata": {},
   "outputs": [
    {
     "data": {
      "text/html": [
       "<div>\n",
       "<style scoped>\n",
       "    .dataframe tbody tr th:only-of-type {\n",
       "        vertical-align: middle;\n",
       "    }\n",
       "\n",
       "    .dataframe tbody tr th {\n",
       "        vertical-align: top;\n",
       "    }\n",
       "\n",
       "    .dataframe thead th {\n",
       "        text-align: right;\n",
       "    }\n",
       "</style>\n",
       "<table border=\"1\" class=\"dataframe\">\n",
       "  <thead>\n",
       "    <tr style=\"text-align: right;\">\n",
       "      <th></th>\n",
       "      <th>session_id</th>\n",
       "      <th>client_id</th>\n",
       "      <th>visit_number</th>\n",
       "      <th>utm_source</th>\n",
       "      <th>utm_medium</th>\n",
       "      <th>utm_campaign</th>\n",
       "      <th>device_category</th>\n",
       "      <th>device_brand</th>\n",
       "      <th>device_browser</th>\n",
       "      <th>geo_country</th>\n",
       "      <th>geo_city</th>\n",
       "      <th>target</th>\n",
       "      <th>diagonal</th>\n",
       "      <th>day_of_year</th>\n",
       "      <th>total_seconds</th>\n",
       "      <th>latitude</th>\n",
       "      <th>longitude</th>\n",
       "    </tr>\n",
       "  </thead>\n",
       "  <tbody>\n",
       "    <tr>\n",
       "      <th>0</th>\n",
       "      <td>9055434745589932991.1637753792.1637753792</td>\n",
       "      <td>2108382700.163776</td>\n",
       "      <td>1</td>\n",
       "      <td>ZpYIoDJMcFzVoPFsHGJL</td>\n",
       "      <td>banner</td>\n",
       "      <td>LEoPHuyFvzoNfnzGgfcd</td>\n",
       "      <td>mobile</td>\n",
       "      <td>Huawei</td>\n",
       "      <td>Chrome</td>\n",
       "      <td>Russia</td>\n",
       "      <td>Zlatoust</td>\n",
       "      <td>0</td>\n",
       "      <td>804.984472</td>\n",
       "      <td>328</td>\n",
       "      <td>52592</td>\n",
       "      <td>55.034639</td>\n",
       "      <td>59.529269</td>\n",
       "    </tr>\n",
       "    <tr>\n",
       "      <th>2</th>\n",
       "      <td>905544597018549464.1636867290.1636867290</td>\n",
       "      <td>210838531.163687</td>\n",
       "      <td>1</td>\n",
       "      <td>MvfHsxITijuriZxsqZqt</td>\n",
       "      <td>cpm</td>\n",
       "      <td>FTjNLDyTrXaWYgZymFkV</td>\n",
       "      <td>mobile</td>\n",
       "      <td>Samsung</td>\n",
       "      <td>Samsung Internet</td>\n",
       "      <td>Russia</td>\n",
       "      <td>Moscow</td>\n",
       "      <td>0</td>\n",
       "      <td>936.771584</td>\n",
       "      <td>318</td>\n",
       "      <td>30090</td>\n",
       "      <td>55.625578</td>\n",
       "      <td>37.606392</td>\n",
       "    </tr>\n",
       "    <tr>\n",
       "      <th>3</th>\n",
       "      <td>9055446045651783499.1640648526.1640648526</td>\n",
       "      <td>2108385331.164065</td>\n",
       "      <td>1</td>\n",
       "      <td>ZpYIoDJMcFzVoPFsHGJL</td>\n",
       "      <td>banner</td>\n",
       "      <td>LEoPHuyFvzoNfnzGgfcd</td>\n",
       "      <td>mobile</td>\n",
       "      <td>Huawei</td>\n",
       "      <td>Chrome</td>\n",
       "      <td>Russia</td>\n",
       "      <td>Krasnoyarsk</td>\n",
       "      <td>0</td>\n",
       "      <td>804.984472</td>\n",
       "      <td>362</td>\n",
       "      <td>9726</td>\n",
       "      <td>56.009097</td>\n",
       "      <td>92.872515</td>\n",
       "    </tr>\n",
       "    <tr>\n",
       "      <th>37</th>\n",
       "      <td>9055447192389856083.1622453074.1622453074</td>\n",
       "      <td>2108385598.162245</td>\n",
       "      <td>1</td>\n",
       "      <td>kjsLglQLzykiRbcDiGcD</td>\n",
       "      <td>organic</td>\n",
       "      <td>LTuZkdKfxRGVceoWkVyg</td>\n",
       "      <td>mobile</td>\n",
       "      <td>Apple</td>\n",
       "      <td>Safari</td>\n",
       "      <td>Russia</td>\n",
       "      <td>Saint Petersburg</td>\n",
       "      <td>0</td>\n",
       "      <td>894.409861</td>\n",
       "      <td>151</td>\n",
       "      <td>43200</td>\n",
       "      <td>59.938732</td>\n",
       "      <td>30.316229</td>\n",
       "    </tr>\n",
       "    <tr>\n",
       "      <th>78</th>\n",
       "      <td>9055455318486370642.1640843788.1640843788</td>\n",
       "      <td>2108387490.164084</td>\n",
       "      <td>1</td>\n",
       "      <td>TxKUcPpthBDPieTGmVhx</td>\n",
       "      <td>cpc</td>\n",
       "      <td>FTjNLDyTrXaWYgZymFkV</td>\n",
       "      <td>tablet</td>\n",
       "      <td>Lenovo</td>\n",
       "      <td>YaBrowser</td>\n",
       "      <td>Russia</td>\n",
       "      <td>Saint Petersburg</td>\n",
       "      <td>0</td>\n",
       "      <td>1192.159805</td>\n",
       "      <td>364</td>\n",
       "      <td>32188</td>\n",
       "      <td>59.938732</td>\n",
       "      <td>30.316229</td>\n",
       "    </tr>\n",
       "  </tbody>\n",
       "</table>\n",
       "</div>"
      ],
      "text/plain": [
       "                                   session_id          client_id  \\\n",
       "0   9055434745589932991.1637753792.1637753792  2108382700.163776   \n",
       "2    905544597018549464.1636867290.1636867290   210838531.163687   \n",
       "3   9055446045651783499.1640648526.1640648526  2108385331.164065   \n",
       "37  9055447192389856083.1622453074.1622453074  2108385598.162245   \n",
       "78  9055455318486370642.1640843788.1640843788  2108387490.164084   \n",
       "\n",
       "    visit_number            utm_source utm_medium          utm_campaign  \\\n",
       "0              1  ZpYIoDJMcFzVoPFsHGJL     banner  LEoPHuyFvzoNfnzGgfcd   \n",
       "2              1  MvfHsxITijuriZxsqZqt        cpm  FTjNLDyTrXaWYgZymFkV   \n",
       "3              1  ZpYIoDJMcFzVoPFsHGJL     banner  LEoPHuyFvzoNfnzGgfcd   \n",
       "37             1  kjsLglQLzykiRbcDiGcD    organic  LTuZkdKfxRGVceoWkVyg   \n",
       "78             1  TxKUcPpthBDPieTGmVhx        cpc  FTjNLDyTrXaWYgZymFkV   \n",
       "\n",
       "   device_category device_brand    device_browser geo_country  \\\n",
       "0           mobile       Huawei            Chrome      Russia   \n",
       "2           mobile      Samsung  Samsung Internet      Russia   \n",
       "3           mobile       Huawei            Chrome      Russia   \n",
       "37          mobile        Apple            Safari      Russia   \n",
       "78          tablet       Lenovo         YaBrowser      Russia   \n",
       "\n",
       "            geo_city  target     diagonal  day_of_year  total_seconds  \\\n",
       "0           Zlatoust       0   804.984472          328          52592   \n",
       "2             Moscow       0   936.771584          318          30090   \n",
       "3        Krasnoyarsk       0   804.984472          362           9726   \n",
       "37  Saint Petersburg       0   894.409861          151          43200   \n",
       "78  Saint Petersburg       0  1192.159805          364          32188   \n",
       "\n",
       "     latitude  longitude  \n",
       "0   55.034639  59.529269  \n",
       "2   55.625578  37.606392  \n",
       "3   56.009097  92.872515  \n",
       "37  59.938732  30.316229  \n",
       "78  59.938732  30.316229  "
      ]
     },
     "execution_count": 95,
     "metadata": {},
     "output_type": "execute_result"
    }
   ],
   "source": [
    "df_features.head()"
   ]
  },
  {
   "cell_type": "code",
   "execution_count": 96,
   "id": "4c4a9cda",
   "metadata": {},
   "outputs": [
    {
     "data": {
      "text/plain": [
       "3515"
      ]
     },
     "execution_count": 96,
     "metadata": {},
     "output_type": "execute_result"
    }
   ],
   "source": [
    "# проваерим, для скольки строк не было найдено географических координат\n",
    "len(df_features[df_features.latitude == 0])"
   ]
  },
  {
   "cell_type": "code",
   "execution_count": 97,
   "id": "d21a6272",
   "metadata": {},
   "outputs": [],
   "source": [
    "# как так таких строк немного относительно всего датасета, удалим их\n",
    "df_features.drop(df_features[df_features['longitude'] == 0].index, inplace=True)"
   ]
  },
  {
   "cell_type": "code",
   "execution_count": 98,
   "id": "08320e5e",
   "metadata": {},
   "outputs": [],
   "source": [
    "# удалим исходный столбец с названиями городов\n",
    "df_features.drop(columns=['geo_city'], inplace = True)"
   ]
  },
  {
   "cell_type": "code",
   "execution_count": 99,
   "id": "496fd9df",
   "metadata": {},
   "outputs": [],
   "source": [
    "# сократим количество уникальных значений в колонке 'utm_campaign'\n",
    "# заменим значения, встречающиеся менее чем для 1% датасета, на 'other'\n",
    "df_features.loc[df_features['utm_campaign'].map(df_features['utm_campaign'].value_counts(normalize=True).lt(0.01)), 'utm_campaign'] = 'other'"
   ]
  },
  {
   "cell_type": "code",
   "execution_count": 100,
   "id": "8aea76ff",
   "metadata": {},
   "outputs": [],
   "source": [
    "# сократим количество уникальных значений в колонке 'utm_source'\n",
    "# заменим значения, встречающиеся менее чем для 1% датасета, на 'other'\n",
    "df_features.loc[df_features['utm_source'].map(df_features['utm_source'].value_counts(normalize=True).lt(0.01)), 'utm_source'] = 'other'"
   ]
  },
  {
   "cell_type": "code",
   "execution_count": 101,
   "id": "82d2d98e",
   "metadata": {},
   "outputs": [],
   "source": [
    "# было замечено, что в колонке 'utm_source' есть значения '(none)', '(not set)'\n",
    "# сделаем только '(not set)'\n",
    "df_features.loc[df_features['utm_source'] == '(none)', 'utm_source'] = '(not set)'"
   ]
  },
  {
   "cell_type": "code",
   "execution_count": 102,
   "id": "231a4cdb",
   "metadata": {},
   "outputs": [],
   "source": [
    "# было замечено, что в колонке 'device_brand' есть значения '(not set)' м 'other'\n",
    "# сделаем только 'other'\n",
    "df_features.loc[df_features['device_brand'] == '(not set)', 'device_brand'] = 'other'"
   ]
  },
  {
   "cell_type": "code",
   "execution_count": 103,
   "id": "ada9e175",
   "metadata": {},
   "outputs": [
    {
     "data": {
      "text/plain": [
       "Chrome                              828634\n",
       "Safari                              363041\n",
       "YaBrowser                            92013\n",
       "Safari (in-app)                      58767\n",
       "Android Webview                      45440\n",
       "Samsung Internet                     39040\n",
       "Opera                                18828\n",
       "Firefox                              11770\n",
       "Edge                                 10741\n",
       "UC Browser                             663\n",
       "Android Runtime                        232\n",
       "Mozilla Compatible Agent               207\n",
       "[FBAN                                  115\n",
       "Instagram 208.0.0.32.135 Android        72\n",
       "MRCHROME                                52\n",
       "Instagram 209.0.0.21.119 Android        49\n",
       "Puffin                                  36\n",
       "Android Browser                         26\n",
       "Internet Explorer                       20\n",
       "Opera Mini                              19\n",
       "Android                                 19\n",
       "Maxthon                                 19\n",
       "Instagram 202.0.0.23.119                17\n",
       "Mozilla                                 16\n",
       "Instagram 194.0.0.36.172 Android        14\n",
       "Instagram 202.0.0.37.123 Android        12\n",
       "(not set)                               10\n",
       "Instagram 212.0.0.38.119 Android         6\n",
       "helloworld                               6\n",
       "Instagram 203.0.0.26.117                 6\n",
       "Instagram 192.0.0.37.119                 6\n",
       "com.vk.vkclient                          6\n",
       "Instagram 201.0.0.23.111                 5\n",
       "Coc Coc                                  5\n",
       "Instagram 216.0.0.12.135                 4\n",
       "Instagram 213.0.0.29.120 Android         4\n",
       "Amazon Silk                              4\n",
       "Instagram 207.0.0.28.118                 4\n",
       "Instagram 216.1.0.21.137 Android         4\n",
       "Instagram 213.0.0.19.117                 3\n",
       "Instagram 192.0.0.35.123 Android         3\n",
       "Instagram 158.0.0.30.123 Android         3\n",
       "NetFront                                 2\n",
       "Instagram 199.1.0.34.119 Android         2\n",
       "Instagram 208.0.0.26.131                 2\n",
       "MyApp                                    2\n",
       "Instagram 199.0.0.27.120                 2\n",
       "Iron                                     2\n",
       "SeaMonkey                                2\n",
       "MT6735_TD                                1\n",
       "Konqueror                                1\n",
       "com.zhiliaoapp.musically                 1\n",
       "Threads 202.0.0.23.119                   1\n",
       "Name: device_browser, dtype: int64"
      ]
     },
     "execution_count": 103,
     "metadata": {},
     "output_type": "execute_result"
    }
   ],
   "source": [
    "# посмотрим, какие значения принимает колонка 'device_browser'\n",
    "pd.set_option(\"display.max_rows\", None)\n",
    "df_features.device_browser.value_counts()"
   ]
  },
  {
   "cell_type": "code",
   "execution_count": 104,
   "id": "a23e1c29",
   "metadata": {},
   "outputs": [],
   "source": [
    "# все записи колонки 'device_browser', содержащие подстроку 'Instagram' заменим на 'Instagram'\n",
    "df_features.loc[df_features['device_browser'].str.contains('Instagram'), 'device_browser'] = 'Instagram'"
   ]
  },
  {
   "cell_type": "code",
   "execution_count": null,
   "id": "1f3d389b",
   "metadata": {},
   "outputs": [],
   "source": []
  },
  {
   "cell_type": "code",
   "execution_count": 105,
   "id": "ad5fdc88",
   "metadata": {},
   "outputs": [],
   "source": [
    "# сохраним итоговый датасет в файл\n",
    "df_features.to_csv('df_features.csv', index=False)"
   ]
  },
  {
   "cell_type": "markdown",
   "id": "8a41e6f9",
   "metadata": {},
   "source": [
    "## Нормализация данных и преобразование категориальных данных"
   ]
  },
  {
   "cell_type": "code",
   "execution_count": 2,
   "id": "e69d0851",
   "metadata": {},
   "outputs": [
    {
     "ename": "NameError",
     "evalue": "name 'pd' is not defined",
     "output_type": "error",
     "traceback": [
      "\u001b[1;31m---------------------------------------------------------------------------\u001b[0m",
      "\u001b[1;31mNameError\u001b[0m                                 Traceback (most recent call last)",
      "\u001b[1;32m<ipython-input-2-382f80c69b59>\u001b[0m in \u001b[0;36m<module>\u001b[1;34m\u001b[0m\n\u001b[1;32m----> 1\u001b[1;33m \u001b[0mdf_prepared\u001b[0m \u001b[1;33m=\u001b[0m \u001b[0mpd\u001b[0m\u001b[1;33m.\u001b[0m\u001b[0mread_csv\u001b[0m\u001b[1;33m(\u001b[0m\u001b[1;34m'df_features.csv'\u001b[0m\u001b[1;33m)\u001b[0m\u001b[1;33m\u001b[0m\u001b[1;33m\u001b[0m\u001b[0m\n\u001b[0m",
      "\u001b[1;31mNameError\u001b[0m: name 'pd' is not defined"
     ]
    }
   ],
   "source": [
    "df_prepared = pd.read_csv('df_features.csv')"
   ]
  },
  {
   "cell_type": "code",
   "execution_count": 107,
   "id": "470c411c",
   "metadata": {},
   "outputs": [
    {
     "data": {
      "text/html": [
       "<div>\n",
       "<style scoped>\n",
       "    .dataframe tbody tr th:only-of-type {\n",
       "        vertical-align: middle;\n",
       "    }\n",
       "\n",
       "    .dataframe tbody tr th {\n",
       "        vertical-align: top;\n",
       "    }\n",
       "\n",
       "    .dataframe thead th {\n",
       "        text-align: right;\n",
       "    }\n",
       "</style>\n",
       "<table border=\"1\" class=\"dataframe\">\n",
       "  <thead>\n",
       "    <tr style=\"text-align: right;\">\n",
       "      <th></th>\n",
       "      <th>session_id</th>\n",
       "      <th>client_id</th>\n",
       "      <th>visit_number</th>\n",
       "      <th>utm_source</th>\n",
       "      <th>utm_medium</th>\n",
       "      <th>utm_campaign</th>\n",
       "      <th>device_category</th>\n",
       "      <th>device_brand</th>\n",
       "      <th>device_browser</th>\n",
       "      <th>geo_country</th>\n",
       "      <th>target</th>\n",
       "      <th>diagonal</th>\n",
       "      <th>day_of_year</th>\n",
       "      <th>total_seconds</th>\n",
       "      <th>latitude</th>\n",
       "      <th>longitude</th>\n",
       "    </tr>\n",
       "  </thead>\n",
       "  <tbody>\n",
       "    <tr>\n",
       "      <th>0</th>\n",
       "      <td>9055434745589932991.1637753792.1637753792</td>\n",
       "      <td>2.108383e+09</td>\n",
       "      <td>1</td>\n",
       "      <td>ZpYIoDJMcFzVoPFsHGJL</td>\n",
       "      <td>banner</td>\n",
       "      <td>LEoPHuyFvzoNfnzGgfcd</td>\n",
       "      <td>mobile</td>\n",
       "      <td>Huawei</td>\n",
       "      <td>Chrome</td>\n",
       "      <td>Russia</td>\n",
       "      <td>0</td>\n",
       "      <td>804.984472</td>\n",
       "      <td>328</td>\n",
       "      <td>52592</td>\n",
       "      <td>55.034639</td>\n",
       "      <td>59.529269</td>\n",
       "    </tr>\n",
       "    <tr>\n",
       "      <th>1</th>\n",
       "      <td>905544597018549464.1636867290.1636867290</td>\n",
       "      <td>2.108385e+08</td>\n",
       "      <td>1</td>\n",
       "      <td>MvfHsxITijuriZxsqZqt</td>\n",
       "      <td>cpm</td>\n",
       "      <td>FTjNLDyTrXaWYgZymFkV</td>\n",
       "      <td>mobile</td>\n",
       "      <td>Samsung</td>\n",
       "      <td>Samsung Internet</td>\n",
       "      <td>Russia</td>\n",
       "      <td>0</td>\n",
       "      <td>936.771584</td>\n",
       "      <td>318</td>\n",
       "      <td>30090</td>\n",
       "      <td>55.625578</td>\n",
       "      <td>37.606392</td>\n",
       "    </tr>\n",
       "    <tr>\n",
       "      <th>2</th>\n",
       "      <td>9055446045651783499.1640648526.1640648526</td>\n",
       "      <td>2.108385e+09</td>\n",
       "      <td>1</td>\n",
       "      <td>ZpYIoDJMcFzVoPFsHGJL</td>\n",
       "      <td>banner</td>\n",
       "      <td>LEoPHuyFvzoNfnzGgfcd</td>\n",
       "      <td>mobile</td>\n",
       "      <td>Huawei</td>\n",
       "      <td>Chrome</td>\n",
       "      <td>Russia</td>\n",
       "      <td>0</td>\n",
       "      <td>804.984472</td>\n",
       "      <td>362</td>\n",
       "      <td>9726</td>\n",
       "      <td>56.009097</td>\n",
       "      <td>92.872515</td>\n",
       "    </tr>\n",
       "    <tr>\n",
       "      <th>3</th>\n",
       "      <td>9055447192389856083.1622453074.1622453074</td>\n",
       "      <td>2.108386e+09</td>\n",
       "      <td>1</td>\n",
       "      <td>kjsLglQLzykiRbcDiGcD</td>\n",
       "      <td>organic</td>\n",
       "      <td>LTuZkdKfxRGVceoWkVyg</td>\n",
       "      <td>mobile</td>\n",
       "      <td>Apple</td>\n",
       "      <td>Safari</td>\n",
       "      <td>Russia</td>\n",
       "      <td>0</td>\n",
       "      <td>894.409861</td>\n",
       "      <td>151</td>\n",
       "      <td>43200</td>\n",
       "      <td>59.938732</td>\n",
       "      <td>30.316229</td>\n",
       "    </tr>\n",
       "    <tr>\n",
       "      <th>4</th>\n",
       "      <td>9055455318486370642.1640843788.1640843788</td>\n",
       "      <td>2.108387e+09</td>\n",
       "      <td>1</td>\n",
       "      <td>other</td>\n",
       "      <td>cpc</td>\n",
       "      <td>FTjNLDyTrXaWYgZymFkV</td>\n",
       "      <td>tablet</td>\n",
       "      <td>Lenovo</td>\n",
       "      <td>YaBrowser</td>\n",
       "      <td>Russia</td>\n",
       "      <td>0</td>\n",
       "      <td>1192.159805</td>\n",
       "      <td>364</td>\n",
       "      <td>32188</td>\n",
       "      <td>59.938732</td>\n",
       "      <td>30.316229</td>\n",
       "    </tr>\n",
       "  </tbody>\n",
       "</table>\n",
       "</div>"
      ],
      "text/plain": [
       "                                  session_id     client_id  visit_number  \\\n",
       "0  9055434745589932991.1637753792.1637753792  2.108383e+09             1   \n",
       "1   905544597018549464.1636867290.1636867290  2.108385e+08             1   \n",
       "2  9055446045651783499.1640648526.1640648526  2.108385e+09             1   \n",
       "3  9055447192389856083.1622453074.1622453074  2.108386e+09             1   \n",
       "4  9055455318486370642.1640843788.1640843788  2.108387e+09             1   \n",
       "\n",
       "             utm_source utm_medium          utm_campaign device_category  \\\n",
       "0  ZpYIoDJMcFzVoPFsHGJL     banner  LEoPHuyFvzoNfnzGgfcd          mobile   \n",
       "1  MvfHsxITijuriZxsqZqt        cpm  FTjNLDyTrXaWYgZymFkV          mobile   \n",
       "2  ZpYIoDJMcFzVoPFsHGJL     banner  LEoPHuyFvzoNfnzGgfcd          mobile   \n",
       "3  kjsLglQLzykiRbcDiGcD    organic  LTuZkdKfxRGVceoWkVyg          mobile   \n",
       "4                 other        cpc  FTjNLDyTrXaWYgZymFkV          tablet   \n",
       "\n",
       "  device_brand    device_browser geo_country  target     diagonal  \\\n",
       "0       Huawei            Chrome      Russia       0   804.984472   \n",
       "1      Samsung  Samsung Internet      Russia       0   936.771584   \n",
       "2       Huawei            Chrome      Russia       0   804.984472   \n",
       "3        Apple            Safari      Russia       0   894.409861   \n",
       "4       Lenovo         YaBrowser      Russia       0  1192.159805   \n",
       "\n",
       "   day_of_year  total_seconds   latitude  longitude  \n",
       "0          328          52592  55.034639  59.529269  \n",
       "1          318          30090  55.625578  37.606392  \n",
       "2          362           9726  56.009097  92.872515  \n",
       "3          151          43200  59.938732  30.316229  \n",
       "4          364          32188  59.938732  30.316229  "
      ]
     },
     "execution_count": 107,
     "metadata": {},
     "output_type": "execute_result"
    }
   ],
   "source": [
    "df_prepared.head()"
   ]
  },
  {
   "cell_type": "code",
   "execution_count": 5,
   "id": "825b2a15",
   "metadata": {},
   "outputs": [
    {
     "data": {
      "text/plain": [
       "session_id          object\n",
       "client_id          float64\n",
       "visit_number         int64\n",
       "utm_source          object\n",
       "utm_medium          object\n",
       "utm_campaign        object\n",
       "device_category     object\n",
       "device_brand        object\n",
       "device_browser      object\n",
       "geo_country         object\n",
       "target               int64\n",
       "diagonal           float64\n",
       "day_of_year          int64\n",
       "total_seconds        int64\n",
       "latitude           float64\n",
       "longitude          float64\n",
       "dtype: object"
      ]
     },
     "execution_count": 5,
     "metadata": {},
     "output_type": "execute_result"
    }
   ],
   "source": [
    "# посмотрим тип колонок в датасете\n",
    "df_prepared.dtypes"
   ]
  },
  {
   "cell_type": "code",
   "execution_count": 18,
   "id": "d3a0f681",
   "metadata": {},
   "outputs": [],
   "source": [
    "# нормализуем числовые фичи при помощи StandardScaler\n",
    "std_scaler = StandardScaler()\n",
    "num_cols = ['visit_number', 'diagonal', 'day_of_year', 'total_seconds', 'latitude', 'longitude']\n",
    "std_scaler.fit(df_prepared[num_cols])\n",
    "std_scaler = std_scaler.transform(df_prepared[num_cols])\n",
    "df_prepared[num_cols] = std_scaler"
   ]
  },
  {
   "cell_type": "code",
   "execution_count": 6,
   "id": "800d5c80",
   "metadata": {},
   "outputs": [],
   "source": [
    "# преобразуем некоторые фичи в категориальные\n",
    "cols = ['utm_source', 'utm_medium', 'utm_campaign', 'device_category', 'device_brand', 'device_browser', 'geo_country']\n",
    "df_prepared[cols] = df_prepared[cols].apply(lambda x: x.astype('category'))"
   ]
  },
  {
   "cell_type": "code",
   "execution_count": 7,
   "id": "83196f96",
   "metadata": {},
   "outputs": [],
   "source": [
    "# преобразуем категориальные фичи с помощью OneHotEncoder\n",
    "ohe = OneHotEncoder(sparse=False)\n",
    "ohe.fit(df_prepared[cols])\n",
    "ohe_cols = ohe.transform(df_prepared[cols])\n",
    "#ohe.categories_"
   ]
  },
  {
   "cell_type": "code",
   "execution_count": 8,
   "id": "8b7960a0",
   "metadata": {},
   "outputs": [
    {
     "name": "stderr",
     "output_type": "stream",
     "text": [
      "C:\\Program Files\\ArcGIS\\Pro\\bin\\Python\\envs\\arcgispro-py3\\lib\\site-packages\\sklearn\\utils\\deprecation.py:87: FutureWarning: Function get_feature_names is deprecated; get_feature_names is deprecated in 1.0 and will be removed in 1.2. Please use get_feature_names_out instead.\n",
      "  warnings.warn(msg, category=FutureWarning)\n",
      "C:\\Program Files\\ArcGIS\\Pro\\bin\\Python\\envs\\arcgispro-py3\\lib\\site-packages\\pandas\\core\\frame.py:3678: PerformanceWarning: DataFrame is highly fragmented.  This is usually the result of calling `frame.insert` many times, which has poor performance.  Consider joining all columns at once using pd.concat(axis=1) instead.  To get a de-fragmented frame, use `newframe = frame.copy()`\n",
      "  self[col] = igetitem(value, i)\n"
     ]
    }
   ],
   "source": [
    "# присоединм новые колонки, полученные из категориальных фичей, в датасет\n",
    "df_prepared[ohe.get_feature_names()] = ohe_cols"
   ]
  },
  {
   "cell_type": "code",
   "execution_count": 25,
   "id": "d4388111",
   "metadata": {},
   "outputs": [],
   "source": [
    "# удалим исходные колонки с категориальными переменными \n",
    "df_prepared.drop(columns=cols, inplace=True)"
   ]
  },
  {
   "cell_type": "code",
   "execution_count": null,
   "id": "f6c8eb35",
   "metadata": {},
   "outputs": [],
   "source": [
    "# удалим неинформативные колонки 'session_id', 'client_id'\n",
    "df_features.drop(columns=['session_id', 'client_id'], inplace=True)"
   ]
  },
  {
   "cell_type": "code",
   "execution_count": 27,
   "id": "24f6335f",
   "metadata": {},
   "outputs": [
    {
     "data": {
      "text/html": [
       "<div>\n",
       "<style scoped>\n",
       "    .dataframe tbody tr th:only-of-type {\n",
       "        vertical-align: middle;\n",
       "    }\n",
       "\n",
       "    .dataframe tbody tr th {\n",
       "        vertical-align: top;\n",
       "    }\n",
       "\n",
       "    .dataframe thead th {\n",
       "        text-align: right;\n",
       "    }\n",
       "</style>\n",
       "<table border=\"1\" class=\"dataframe\">\n",
       "  <thead>\n",
       "    <tr style=\"text-align: right;\">\n",
       "      <th></th>\n",
       "      <th>visit_number</th>\n",
       "      <th>target</th>\n",
       "      <th>diagonal</th>\n",
       "      <th>day_of_year</th>\n",
       "      <th>total_seconds</th>\n",
       "      <th>latitude</th>\n",
       "      <th>longitude</th>\n",
       "    </tr>\n",
       "  </thead>\n",
       "  <tbody>\n",
       "    <tr>\n",
       "      <th>0</th>\n",
       "      <td>-0.129521</td>\n",
       "      <td>0</td>\n",
       "      <td>-0.963198</td>\n",
       "      <td>0.869949</td>\n",
       "      <td>0.117858</td>\n",
       "      <td>0.057561</td>\n",
       "      <td>0.924447</td>\n",
       "    </tr>\n",
       "    <tr>\n",
       "      <th>1</th>\n",
       "      <td>-0.129521</td>\n",
       "      <td>0</td>\n",
       "      <td>-0.095034</td>\n",
       "      <td>0.722134</td>\n",
       "      <td>-0.908212</td>\n",
       "      <td>0.159753</td>\n",
       "      <td>-0.130045</td>\n",
       "    </tr>\n",
       "    <tr>\n",
       "      <th>2</th>\n",
       "      <td>-0.129521</td>\n",
       "      <td>0</td>\n",
       "      <td>-0.963198</td>\n",
       "      <td>1.372520</td>\n",
       "      <td>-1.836792</td>\n",
       "      <td>0.226076</td>\n",
       "      <td>2.528261</td>\n",
       "    </tr>\n",
       "    <tr>\n",
       "      <th>3</th>\n",
       "      <td>-0.129521</td>\n",
       "      <td>0</td>\n",
       "      <td>-0.374097</td>\n",
       "      <td>-1.746380</td>\n",
       "      <td>-0.310408</td>\n",
       "      <td>0.905634</td>\n",
       "      <td>-0.480703</td>\n",
       "    </tr>\n",
       "    <tr>\n",
       "      <th>4</th>\n",
       "      <td>-0.129521</td>\n",
       "      <td>0</td>\n",
       "      <td>1.587368</td>\n",
       "      <td>1.402083</td>\n",
       "      <td>-0.812545</td>\n",
       "      <td>0.905634</td>\n",
       "      <td>-0.480703</td>\n",
       "    </tr>\n",
       "  </tbody>\n",
       "</table>\n",
       "</div>"
      ],
      "text/plain": [
       "   visit_number  target  diagonal  day_of_year  total_seconds  latitude  \\\n",
       "0     -0.129521       0 -0.963198     0.869949       0.117858  0.057561   \n",
       "1     -0.129521       0 -0.095034     0.722134      -0.908212  0.159753   \n",
       "2     -0.129521       0 -0.963198     1.372520      -1.836792  0.226076   \n",
       "3     -0.129521       0 -0.374097    -1.746380      -0.310408  0.905634   \n",
       "4     -0.129521       0  1.587368     1.402083      -0.812545  0.905634   \n",
       "\n",
       "   longitude  \n",
       "0   0.924447  \n",
       "1  -0.130045  \n",
       "2   2.528261  \n",
       "3  -0.480703  \n",
       "4  -0.480703  "
      ]
     },
     "execution_count": 27,
     "metadata": {},
     "output_type": "execute_result"
    }
   ],
   "source": [
    "df_prepared.head()"
   ]
  },
  {
   "cell_type": "markdown",
   "id": "498c1b78",
   "metadata": {},
   "source": [
    "## Modeling"
   ]
  },
  {
   "cell_type": "code",
   "execution_count": 13,
   "id": "a01db109",
   "metadata": {},
   "outputs": [],
   "source": [
    "#!pip install imbalanced-learn"
   ]
  },
  {
   "cell_type": "code",
   "execution_count": 14,
   "id": "9a4bfa7e",
   "metadata": {},
   "outputs": [],
   "source": [
    "from sklearn.model_selection import train_test_split\n",
    "from sklearn.metrics import accuracy_score, confusion_matrix, roc_auc_score, roc_curve, classification_report\n",
    "from sklearn.ensemble import RandomForestClassifier\n",
    "from sklearn.neural_network import MLPClassifier\n",
    "from imblearn.under_sampling import RandomUnderSampler\n",
    "from sklearn.linear_model import LogisticRegression, LinearRegression\n",
    "from sklearn.model_selection import cross_val_score, cross_validate\n",
    "from sklearn.ensemble import GradientBoostingClassifier"
   ]
  },
  {
   "cell_type": "code",
   "execution_count": 28,
   "id": "b8380108",
   "metadata": {},
   "outputs": [],
   "source": [
    "# отделим целевую переменную в y\n",
    "x = df_prepared.drop(['target'], axis=1)\n",
    "y = df_prepared.target\n",
    "#x_train, x_test, y_train, y_test = train_test_split(x, y, test_size=0.25, random_state=42)"
   ]
  },
  {
   "cell_type": "code",
   "execution_count": 16,
   "id": "18dd9623",
   "metadata": {},
   "outputs": [
    {
     "data": {
      "text/plain": [
       "0    1428914\n",
       "1      41687\n",
       "Name: target, dtype: int64"
      ]
     },
     "execution_count": 16,
     "metadata": {},
     "output_type": "execute_result"
    }
   ],
   "source": [
    "# проверим сбалансированность выборки\n",
    "y.value_counts()"
   ]
  },
  {
   "cell_type": "code",
   "execution_count": 30,
   "id": "d59dff8e",
   "metadata": {},
   "outputs": [],
   "source": [
    "# выборка не сбалансирована, модели могут обучаться плохо на значениях '1'\n",
    "# применим инструмент балансировки выборки путем уменьшения превалирующего класса\n",
    "rus = RandomUnderSampler()\n",
    "x_resampled, y_resampled = rus.fit_resample(x, y)"
   ]
  },
  {
   "cell_type": "code",
   "execution_count": 18,
   "id": "09c7c3c9",
   "metadata": {},
   "outputs": [
    {
     "data": {
      "text/plain": [
       "0    41687\n",
       "1    41687\n",
       "Name: target, dtype: int64"
      ]
     },
     "execution_count": 18,
     "metadata": {},
     "output_type": "execute_result"
    }
   ],
   "source": [
    "# снова проверим сбалансированность выборки \n",
    "y_resampled.value_counts()"
   ]
  },
  {
   "cell_type": "code",
   "execution_count": 19,
   "id": "1f55e70d",
   "metadata": {},
   "outputs": [
    {
     "data": {
      "text/plain": [
       "(0.6908083330243681, 0.0025774712415977227)"
      ]
     },
     "execution_count": 19,
     "metadata": {},
     "output_type": "execute_result"
    }
   ],
   "source": [
    "# построим модель многослойного персептрона и рассчитаем кросс-валидацию по 'roc_auc'\n",
    "# выведем среднее значение roc_auc и разброс\n",
    "mlp = MLPClassifier(random_state=42, max_iter=500, early_stopping=True, activation='tanh')\n",
    "cv_score = cross_val_score(mlp, x_resampled.values, y_resampled, cv=5, scoring ='roc_auc')\n",
    "cv_score.mean(), cv_score.std()"
   ]
  },
  {
   "cell_type": "code",
   "execution_count": 20,
   "id": "ac209bd9",
   "metadata": {},
   "outputs": [
    {
     "data": {
      "text/plain": [
       "(0.6941592651498689, 0.003085227366950258)"
      ]
     },
     "execution_count": 20,
     "metadata": {},
     "output_type": "execute_result"
    }
   ],
   "source": [
    "clf = GradientBoostingClassifier()\n",
    "cv_score = cross_val_score(clf, x_resampled.values, y_resampled, cv=5, scoring ='roc_auc')\n",
    "cv_score.mean(), cv_score.std()"
   ]
  },
  {
   "cell_type": "code",
   "execution_count": 21,
   "id": "a9285dab",
   "metadata": {},
   "outputs": [
    {
     "data": {
      "text/plain": [
       "[('day_of_year', 0.22423485722624747),\n",
       " ('diagonal', 0.014565690624729092),\n",
       " ('latitude', 0.01671872421239151),\n",
       " ('longitude', 0.02585714373823738),\n",
       " ('total_seconds', 0.01979614974114296),\n",
       " ('visit_number', 0.06335808651263601),\n",
       " ('x0_MvfHsxITijuriZxsqZqt', 0.0024026812384773024),\n",
       " ('x0_QxAxdyPLuQMEcrdZWdWb', 0.01267489144847705),\n",
       " ('x0_RmEBuqrriAfAVsLQQmhk', 0.01547451036380567),\n",
       " ('x0_ZpYIoDJMcFzVoPFsHGJL', 0.10931965063127036),\n",
       " ('x0_aXQzDWsJuGXeBXexNHjc', 1.618804065152325e-07),\n",
       " ('x0_bByPQxmDaMXgpHeypKSM', 0.06004765297545952),\n",
       " ('x0_fDLlAcSmythWSCVMvqvL', 0.01098536844141823),\n",
       " ('x0_jaSOmLICuBzCFqHfBdRg', 0.0010191719305628036),\n",
       " ('x0_kjsLglQLzykiRbcDiGcD', 0.0003507904311034661),\n",
       " ('x0_other', 0.032738118791918444),\n",
       " ('x0_vFcAhRxLfOWKhvxjELkx', 0.016355630546903366),\n",
       " ('x1_(none)', 0.009580112827527248),\n",
       " ('x1_(not set)', 0.00012876451509169514),\n",
       " ('x1_app', 0.001600095652708507),\n",
       " ('x1_article', 0.0),\n",
       " ('x1_banner', 0.0008727545455979683),\n",
       " ('x1_blogger_channel', 0.0),\n",
       " ('x1_blogger_header', 0.0),\n",
       " ('x1_blogger_stories', 0.0),\n",
       " ('x1_catalogue', 0.0),\n",
       " ('x1_cbaafe', 0.0),\n",
       " ('x1_clicks', 0.00013120426326950537),\n",
       " ('x1_cpa', 0.0006456977220653043),\n",
       " ('x1_cpc', 0.033886321007330016),\n",
       " ('x1_cpm', 0.004868620184261309),\n",
       " ('x1_cpv', 0.0),\n",
       " ('x1_dom_click', 0.0),\n",
       " ('x1_email', 0.0010366485959090932),\n",
       " ('x1_fb_smm', 0.0),\n",
       " ('x1_google_cpc', 0.0),\n",
       " ('x1_info_text', 0.0),\n",
       " ('x1_landing', 0.0004150472292481107),\n",
       " ('x1_landing_interests', 0.0),\n",
       " ('x1_last', 0.0),\n",
       " ('x1_link', 0.0),\n",
       " ('x1_linktest', 0.0),\n",
       " ('x1_main_polka', 0.0),\n",
       " ('x1_medium', 0.0),\n",
       " ('x1_nkp', 0.0),\n",
       " ('x1_ok_smm', 0.0),\n",
       " ('x1_organic', 0.00025728552695832637),\n",
       " ('x1_outlook', 0.0),\n",
       " ('x1_partner', 0.0),\n",
       " ('x1_post', 0.0001633983779850068),\n",
       " ('x1_promo_sber', 0.0),\n",
       " ('x1_push', 0.0028772003989505877),\n",
       " ('x1_qr', 0.0),\n",
       " ('x1_qrcodevideo', 0.0),\n",
       " ('x1_reach', 0.0),\n",
       " ('x1_referral', 0.017460430844638244),\n",
       " ('x1_sber_app', 0.0),\n",
       " ('x1_smartbanner', 0.0),\n",
       " ('x1_sms', 0.0),\n",
       " ('x1_social', 0.0),\n",
       " ('x1_static', 0.0),\n",
       " ('x1_stories', 0.0),\n",
       " ('x1_tablet', 0.0),\n",
       " ('x1_tg', 0.0),\n",
       " ('x1_users_msk', 0.0),\n",
       " ('x1_vk_smm', 0.0),\n",
       " ('x1_yandex_cpc', 0.0),\n",
       " ('x2_FTjNLDyTrXaWYgZymFkV', 0.07196791233292045),\n",
       " ('x2_LEoPHuyFvzoNfnzGgfcd', 0.001622219337541095),\n",
       " ('x2_LTuZkdKfxRGVceoWkVyg', 0.16496695037590609),\n",
       " ('x2_LwJZxKuWmvOhPsaCeRjG', 0.0),\n",
       " ('x2_SgIUDYUKnyWHVowUOqid', 0.00121251773225128),\n",
       " ('x2_XHNUiSKKGTEpSAlaVMFQ', 0.0001580603266886848),\n",
       " ('x2_gecBYcKZCPMcVYdSSzKP', 0.0025031201177131207),\n",
       " ('x2_okTXSMadDkjvntEHzIjp', 0.0),\n",
       " ('x2_other', 0.0059219326192582805),\n",
       " ('x2_sbJRYgVfvcnqKJNDDYIr', 0.00031121901047569773),\n",
       " ('x3_desktop', 0.0060006809004618826),\n",
       " ('x3_mobile', 0.0001384546595490325),\n",
       " ('x3_tablet', 0.0),\n",
       " ('x4_A1', 0.0),\n",
       " ('x4_AGM', 0.0),\n",
       " ('x4_AT&T', 0.0),\n",
       " ('x4_Acer', 0.0),\n",
       " ('x4_Advan', 0.0),\n",
       " ('x4_Alcatel', 0.0),\n",
       " ('x4_Alldocube', 0.0),\n",
       " ('x4_Amazon', 0.0),\n",
       " ('x4_Ananda', 0.0),\n",
       " ('x4_Apple', 0.005148963973893356),\n",
       " ('x4_Archos', 0.0),\n",
       " ('x4_Ark', 0.0),\n",
       " ('x4_Artel', 0.0),\n",
       " ('x4_Asus', 4.109101245083515e-05),\n",
       " ('x4_BLU', 0.0),\n",
       " ('x4_BLUBOO', 0.0),\n",
       " ('x4_BQ', 0.0),\n",
       " ('x4_Beelink', 0.0),\n",
       " ('x4_Billion', 0.0),\n",
       " ('x4_Black Fox', 0.0),\n",
       " ('x4_BlackBerry', 0.0),\n",
       " ('x4_Blackview', 0.0),\n",
       " ('x4_CAT', 0.0),\n",
       " ('x4_Caterpillar', 0.0),\n",
       " ('x4_Celkon', 0.0),\n",
       " ('x4_Centric', 0.0),\n",
       " ('x4_China Mobile', 0.0),\n",
       " ('x4_China Phone', 0.0),\n",
       " ('x4_China TVBox', 0.0),\n",
       " ('x4_Chuwi', 0.0),\n",
       " ('x4_Condor', 0.0),\n",
       " ('x4_Coolpad', 0.0),\n",
       " ('x4_Corn', 0.0),\n",
       " ('x4_Cube', 0.0),\n",
       " ('x4_Cubot', 0.0),\n",
       " ('x4_DEXP', 0.0),\n",
       " ('x4_DOOGEE', 0.0),\n",
       " ('x4_Dark', 0.0),\n",
       " ('x4_Dell', 0.0),\n",
       " ('x4_Digiland', 0.0),\n",
       " ('x4_Digma', 0.0),\n",
       " ('x4_Dynamic', 0.0),\n",
       " ('x4_E&L', 0.0),\n",
       " ('x4_Egreat', 0.0),\n",
       " ('x4_Elephone', 0.0),\n",
       " ('x4_Essential', 0.0),\n",
       " ('x4_Evercoss', 0.0),\n",
       " ('x4_Evertek', 0.0),\n",
       " ('x4_Explay', 0.0),\n",
       " ('x4_FREETEL', 0.0),\n",
       " ('x4_Fairphone', 0.0),\n",
       " ('x4_Fero', 0.0),\n",
       " ('x4_Flexymove', 0.0),\n",
       " ('x4_Fly', 0.0),\n",
       " ('x4_Flylion', 0.0),\n",
       " ('x4_Fujitsu', 0.0),\n",
       " ('x4_General Mobile', 0.0),\n",
       " ('x4_Geotel', 0.0),\n",
       " ('x4_Gigaset', 0.0),\n",
       " ('x4_Gionee', 0.0),\n",
       " ('x4_Gome', 0.0),\n",
       " ('x4_Google', 0.0),\n",
       " ('x4_Gretel', 0.0),\n",
       " ('x4_Guophone', 0.0),\n",
       " ('x4_H96', 0.0),\n",
       " ('x4_HOMTOM', 0.0),\n",
       " ('x4_HTC', 0.00013727220814541163),\n",
       " ('x4_Hafury', 0.0),\n",
       " ('x4_Haier', 0.0),\n",
       " ('x4_Highscreen', 0.0),\n",
       " ('x4_Hisense', 0.0),\n",
       " ('x4_Honeywell', 0.0),\n",
       " ('x4_Honor', 0.0),\n",
       " ('x4_How', 0.0),\n",
       " ('x4_Huawei', 0.0),\n",
       " ('x4_INUI', 0.0),\n",
       " ('x4_InFocus', 0.0),\n",
       " ('x4_Infinix', 0.0),\n",
       " ('x4_InnJoo', 0.0),\n",
       " ('x4_Inoi', 0.0),\n",
       " ('x4_Irbis', 0.0),\n",
       " ('x4_Iris', 0.0),\n",
       " ('x4_Itoos', 0.0),\n",
       " ('x4_Jiake', 0.0),\n",
       " ('x4_Jiayu', 0.0),\n",
       " ('x4_Karbonn', 0.0),\n",
       " ('x4_Kata', 0.0),\n",
       " ('x4_Keecoo', 0.0),\n",
       " ('x4_Ken Xin Da', 0.0),\n",
       " ('x4_Kenxinda', 0.0),\n",
       " ('x4_Kingplay', 0.0),\n",
       " ('x4_Komu', 0.0),\n",
       " ('x4_Krip', 0.0),\n",
       " ('x4_Kyocera', 0.0),\n",
       " ('x4_LG', 0.0),\n",
       " ('x4_LTC', 0.0),\n",
       " ('x4_Lava', 0.0),\n",
       " ('x4_LeEco', 0.0),\n",
       " ('x4_LeTV', 0.0),\n",
       " ('x4_Leagoo', 0.0),\n",
       " ('x4_Lenovo', 0.0),\n",
       " ('x4_M-HORSE', 0.0),\n",
       " ('x4_MLS', 0.0),\n",
       " ('x4_MTC', 0.0),\n",
       " ('x4_MTS', 0.0),\n",
       " ('x4_MXQ', 0.0),\n",
       " ('x4_Maxvi', 0.0),\n",
       " ('x4_Maze', 0.0),\n",
       " ('x4_MediaTek', 0.0),\n",
       " ('x4_Meizu', 0.0),\n",
       " ('x4_Micromax', 0.0),\n",
       " ('x4_Microsoft', 0.0),\n",
       " ('x4_Mito', 0.0),\n",
       " ('x4_Mlais', 0.0),\n",
       " ('x4_Mobiistar', 0.0),\n",
       " ('x4_Motive', 0.0),\n",
       " ('x4_Motorola', 0.0),\n",
       " ('x4_Mozilla', 0.0),\n",
       " ('x4_NOA', 0.0),\n",
       " ('x4_Neffos', 0.0),\n",
       " ('x4_Nokia', 0.0),\n",
       " ('x4_Nomi', 0.0),\n",
       " ('x4_Nomu', 0.0),\n",
       " ('x4_Nuu', 0.0),\n",
       " ('x4_OPPO', 0.0001743597172237003),\n",
       " ('x4_Olla', 0.0),\n",
       " ('x4_OnePlus', 0.0015077065002996933),\n",
       " ('x4_Oukitel', 0.0),\n",
       " ('x4_Oysters', 0.0),\n",
       " ('x4_POCO', 0.0),\n",
       " ('x4_PPTV', 0.0),\n",
       " ('x4_Panasonic', 0.0),\n",
       " ('x4_Pantech', 0.0),\n",
       " ('x4_Philips', 0.0),\n",
       " ('x4_Poptel', 0.0),\n",
       " ('x4_Prestigio', 0.0),\n",
       " ('x4_QMobile', 0.0),\n",
       " ('x4_Qbex', 0.0),\n",
       " ('x4_RED', 0.0),\n",
       " ('x4_Razer', 5.413639411749316e-05),\n",
       " ('x4_Realme', 0.0),\n",
       " ('x4_Samsung', 0.00972228536068294),\n",
       " ('x4_SenseIT', 0.0),\n",
       " ('x4_Sharp', 0.0),\n",
       " ('x4_Smarteo', 0.0),\n",
       " ('x4_Smartfren', 0.0),\n",
       " ('x4_Smartisan', 0.0),\n",
       " ('x4_Sonim', 0.0),\n",
       " ('x4_Sony', 0.00010077928545582206),\n",
       " ('x4_SonyEricsson', 0.0),\n",
       " ('x4_Star', 0.0),\n",
       " ('x4_Symphony', 0.0),\n",
       " ('x4_T-Mobile', 0.0),\n",
       " ('x4_TCL', 0.0),\n",
       " ('x4_TP-Link', 0.0),\n",
       " ('x4_Tagital', 0.0),\n",
       " ('x4_Tanix', 0.0),\n",
       " ('x4_Teclast', 0.0),\n",
       " ('x4_Tecno', 0.0),\n",
       " ('x4_Tele2', 0.0),\n",
       " ('x4_Tesla', 0.0),\n",
       " ('x4_ThL', 0.0),\n",
       " ('x4_Tonbux', 0.0),\n",
       " ('x4_TurboPad', 0.0),\n",
       " ('x4_UGOOS', 0.0),\n",
       " ('x4_UMI', 0.0),\n",
       " ('x4_Ulefone', 0.0),\n",
       " ('x4_Umidigi', 0.0),\n",
       " ('x4_Unihertz', 0.0),\n",
       " ('x4_Verizon', 0.0),\n",
       " ('x4_Vernee', 0.0),\n",
       " ('x4_Vertex', 0.0),\n",
       " ('x4_Vertu', 0.0),\n",
       " ('x4_Vestel', 0.0),\n",
       " ('x4_Vivo', 0.0),\n",
       " ('x4_Vodafone', 0.0),\n",
       " ('x4_Vsmart', 0.0),\n",
       " ('x4_Walton', 0.0),\n",
       " ('x4_Wieppo', 0.0),\n",
       " ('x4_Wigor', 0.0),\n",
       " ('x4_Wiko', 0.0),\n",
       " ('x4_Wileyfox', 0.0),\n",
       " ('x4_Wings Mobile', 0.0),\n",
       " ('x4_Winnovo', 0.0),\n",
       " ('x4_Xgody', 0.0),\n",
       " ('x4_Xiaolajiao', 0.0),\n",
       " ('x4_Xiaomi', 4.963988964342713e-05),\n",
       " ('x4_Yota Devices', 0.0),\n",
       " ('x4_Yuntab', 0.0),\n",
       " ('x4_ZOJI', 0.0),\n",
       " ('x4_ZTE', 0.0),\n",
       " ('x4_iNew', 0.0),\n",
       " ('x4_itel', 0.0),\n",
       " ('x4_myPhone', 0.0),\n",
       " ('x4_other', 0.0),\n",
       " ('x4_teXet', 0.0),\n",
       " ('x5_(not set)', 0.0),\n",
       " ('x5_Amazon Silk', 0.0),\n",
       " ('x5_Android', 0.0),\n",
       " ('x5_Android Browser', 0.0),\n",
       " ('x5_Android Runtime', 0.0),\n",
       " ('x5_Android Webview', 0.010780395864898559),\n",
       " ('x5_Chrome', 0.0015965914489502221),\n",
       " ('x5_Coc Coc', 0.0),\n",
       " ('x5_Edge', 0.0),\n",
       " ('x5_Firefox', 9.25673513465857e-05),\n",
       " ('x5_Instagram', 0.0),\n",
       " ('x5_Internet Explorer', 0.0),\n",
       " ('x5_Iron', 0.0),\n",
       " ('x5_Konqueror', 0.0),\n",
       " ('x5_MRCHROME', 0.0),\n",
       " ('x5_MT6735_TD', 0.0),\n",
       " ('x5_Maxthon', 0.0),\n",
       " ('x5_Mozilla', 0.0),\n",
       " ('x5_Mozilla Compatible Agent', 0.0),\n",
       " ('x5_MyApp', 0.0),\n",
       " ('x5_NetFront', 0.0),\n",
       " ('x5_Opera', 0.0006972363529934779),\n",
       " ('x5_Opera Mini', 0.0),\n",
       " ('x5_Puffin', 0.0),\n",
       " ('x5_Safari', 0.0007006314514733736),\n",
       " ('x5_Safari (in-app)', 0.011518515846196122),\n",
       " ('x5_Samsung Internet', 0.0020364382873169122),\n",
       " ('x5_SeaMonkey', 0.0),\n",
       " ('x5_Threads 202.0.0.23.119', 0.0),\n",
       " ('x5_UC Browser', 0.0),\n",
       " ('x5_YaBrowser', 0.00021516913808543875),\n",
       " ('x5_[FBAN', 0.0),\n",
       " ('x5_com.vk.vkclient', 0.0),\n",
       " ('x5_com.zhiliaoapp.musically', 0.0),\n",
       " ('x5_helloworld', 0.0),\n",
       " ('x6_Russia', 0.0001592321725191933),\n",
       " ('x6_other', 0.0006410579048137297)]"
      ]
     },
     "execution_count": 21,
     "metadata": {},
     "output_type": "execute_result"
    }
   ],
   "source": [
    "clf.fit(x_resampled.values, y_resampled)\n",
    "sorted(zip(x.columns, clf.feature_importances_))"
   ]
  },
  {
   "cell_type": "code",
   "execution_count": 31,
   "id": "6e297c5a",
   "metadata": {},
   "outputs": [
    {
     "data": {
      "text/plain": [
       "(0.6396912714216825, 0.0037331337474494296)"
      ]
     },
     "execution_count": 31,
     "metadata": {},
     "output_type": "execute_result"
    }
   ],
   "source": [
    "# без категориальных фичей\n",
    "clf = GradientBoostingClassifier()\n",
    "cv_score = cross_val_score(clf, x_resampled.values, y_resampled, cv=5, scoring ='roc_auc')\n",
    "cv_score.mean(), cv_score.std()"
   ]
  },
  {
   "cell_type": "markdown",
   "id": "71bf084e",
   "metadata": {},
   "source": [
    "## Выводы"
   ]
  },
  {
   "cell_type": "markdown",
   "id": "08a44781",
   "metadata": {},
   "source": [
    "1. Исходя из анализа feature_importances_, можнно заключить, что модели любят числовые фичи больше, чем категориальные. Наиболее важными в моем анализе оказались именно численные: день года, широта-долгота, диагональ экрана, время в секундах (. При этом, всё же категориальные фичи тоже улучшают модель. Если обучать модель только на численных фичах, roc_auc_score оказывается равным 0.64, в то время как числовые + категориальные фичи дают roc_auc_score = 0.694\n",
    "\n",
    "\n",
    "2. Что же касается смысловой части важных фичей, тут можно найти следующую логику. Зависимость от дня года явно играет важную роль при желании водить автомобиль: в дачный сезон спрос, вероятнее, побольше, в то время как зимой многие предпочитают отказаться от вождения. Широта/долгота - тоже важно для Автоподписки, которая еще не слишком распространена в регионах России и тем более в зарубежье. Тут зашедшие на сайт москвичи или петербуржцы скорее уйдут с совершенным целевым действием, нежели жители Дальнего востока. "
   ]
  },
  {
   "cell_type": "code",
   "execution_count": null,
   "id": "7a664630",
   "metadata": {},
   "outputs": [],
   "source": []
  }
 ],
 "metadata": {
  "kernelspec": {
   "display_name": "Python 3",
   "language": "python",
   "name": "python3"
  },
  "language_info": {
   "codemirror_mode": {
    "name": "ipython",
    "version": 3
   },
   "file_extension": ".py",
   "mimetype": "text/x-python",
   "name": "python",
   "nbconvert_exporter": "python",
   "pygments_lexer": "ipython3",
   "version": "3.9.11"
  }
 },
 "nbformat": 4,
 "nbformat_minor": 5
}
